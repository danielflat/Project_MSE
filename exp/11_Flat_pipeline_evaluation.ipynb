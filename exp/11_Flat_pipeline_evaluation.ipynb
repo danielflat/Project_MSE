{
 "cells": [
  {
   "metadata": {
    "ExecuteTime": {
     "end_time": "2024-07-17T13:31:01.885060Z",
     "start_time": "2024-07-17T13:31:01.881938Z"
    }
   },
   "cell_type": "code",
   "source": [
    "import os\n",
    "import time\n",
    "\n",
    "from ranker.ranker import RankerFlat"
   ],
   "id": "8db907afa5099773",
   "outputs": [],
   "execution_count": 3
  },
  {
   "metadata": {
    "ExecuteTime": {
     "end_time": "2024-07-17T13:31:06.976093Z",
     "start_time": "2024-07-17T13:31:02.788905Z"
    }
   },
   "cell_type": "code",
   "source": [
    "# might take long right now because the database is very big nowadays. Just play with the sleep parameter if you want to.\n",
    "os.system(\"\"\"\n",
    "    docker compose down;\n",
    "    docker compose up -d --build db;\n",
    "    sleep 15;\n",
    "    \"\"\")"
   ],
   "id": "701371f40d7c4c26",
   "outputs": [
    {
     "name": "stderr",
     "output_type": "stream",
     "text": [
      " Container project_mse-db-1  Stopping\n",
      " Container project_mse-db-1  Stopped\n",
      " Container project_mse-db-1  Removing\n",
      " Container project_mse-db-1  Removed\n",
      " Network project_mse_default  Removing\n",
      " Network project_mse_default  Removed\n"
     ]
    },
    {
     "name": "stdout",
     "output_type": "stream",
     "text": [
      "#0 building with \"desktop-linux\" instance using docker driver\n",
      "\n",
      "#1 [db internal] load build definition from Dockerfile\n",
      "#1 transferring dockerfile: 122B done\n",
      "#1 DONE 0.0s\n",
      "\n",
      "#2 [db internal] load metadata for docker.io/library/postgres:latest\n",
      "#2 DONE 0.0s\n",
      "\n",
      "#3 [db internal] load .dockerignore\n",
      "#3 transferring context: 2B done\n",
      "#3 DONE 0.0s\n",
      "\n",
      "#4 [db 1/2] FROM docker.io/library/postgres:latest\n",
      "#4 DONE 0.0s\n",
      "\n",
      "#5 [db internal] load build context\n",
      "#5 transferring context: 32B done\n",
      "#5 DONE 0.0s\n",
      "\n",
      "#6 [db 2/2] COPY dump.sql /docker-entrypoint-initdb.d/\n",
      "#6 CACHED\n",
      "\n",
      "#7 [db] exporting to image\n",
      "#7 exporting layers done\n",
      "#7 writing image sha256:67c1644c2918172ee852e247262ca7123c812f5566eeb6a063940a17662af7dd done\n",
      "#7 naming to docker.io/library/project_mse-db done\n",
      "#7 DONE 0.0s\n"
     ]
    },
    {
     "name": "stderr",
     "output_type": "stream",
     "text": [
      " Network project_mse_default  Creating\n",
      " Network project_mse_default  Created\n",
      " Container project_mse-db-1  Creating\n",
      " Container project_mse-db-1  Created\n",
      " Container project_mse-db-1  Starting\n",
      " Container project_mse-db-1  Started\n"
     ]
    },
    {
     "data": {
      "text/plain": [
       "0"
      ]
     },
     "execution_count": 4,
     "metadata": {},
     "output_type": "execute_result"
    }
   ],
   "execution_count": 4
  },
  {
   "cell_type": "code",
   "id": "initial_id",
   "metadata": {
    "collapsed": true,
    "ExecuteTime": {
     "end_time": "2024-07-17T13:31:38.635246Z",
     "start_time": "2024-07-17T13:31:25.466574Z"
    }
   },
   "source": [
    "ranker = RankerFlat()\n",
    "tokenizer = ranker.tokenizer\n",
    "documentRepository = ranker.documentRepository"
   ],
   "outputs": [
    {
     "name": "stdout",
     "output_type": "stream",
     "text": [
      "SC: Connected to the db. Now you can go and build the best search engine around!\n",
      "All documents loaded.\n"
     ]
    }
   ],
   "execution_count": 6
  },
  {
   "metadata": {},
   "cell_type": "markdown",
   "source": "If it gets problematic that the db does not work, just wait a bit. Since the db might be big, docker needs some time. Wait 10 and execute it again. ",
   "id": "c27ea77949781e2e"
  },
  {
   "metadata": {
    "ExecuteTime": {
     "end_time": "2024-07-17T13:33:07.411110Z",
     "start_time": "2024-07-17T13:32:55.281308Z"
    }
   },
   "cell_type": "code",
   "source": [
    "all_docs = documentRepository.loadAllDocuments()\n",
    "len(all_docs)"
   ],
   "id": "231351053cf38039",
   "outputs": [
    {
     "data": {
      "text/plain": [
       "6355"
      ]
     },
     "execution_count": 7,
     "metadata": {},
     "output_type": "execute_result"
    }
   ],
   "execution_count": 7
  },
  {
   "metadata": {
    "ExecuteTime": {
     "end_time": "2024-07-17T13:34:36.806948Z",
     "start_time": "2024-07-17T13:33:44.724749Z"
    }
   },
   "cell_type": "code",
   "source": [
    "query = \"Tübingen food\"\n",
    "index_length = 1000  # or len(all_docs) to evaluate on full index\n",
    "\n",
    "# prepare index. \n",
    "trun_docs = all_docs[:index_length]\n",
    "\n",
    "start_time = time.time()\n",
    "print(f\"Ranking is starting\")\n",
    "\n",
    "query_result = ranker.rank_query(query, documents=trun_docs, n=100)\n",
    "\n",
    "end_time = time.time()\n",
    "print(f\"Query: {query} , Number of documents: {index_length}, Time required: {end_time - start_time} seconds\")\n",
    "\n",
    "for i in range(10):\n",
    "    print(f\"Rank: {i}, Score: {query_result.scores[i]}, URL: {query_result.documents[i].url}\")"
   ],
   "id": "b6f5d5533cb9cfbb",
   "outputs": [
    {
     "name": "stdout",
     "output_type": "stream",
     "text": [
      "Ranking is starting\n",
      "Query: Tübingen food , Time required: 52.077473163604736 seconds\n",
      "Rank: 0, Score: 5.550652027130127, URL: https://www.my-stuwe.de/en/co2-label/\n",
      "Rank: 1, Score: 5.227603912353516, URL: https://tuebingenresearchcampus.com/en/tuebingen/living-in-tuebingen/shopping\n",
      "Rank: 2, Score: 4.969301223754883, URL: https://www.my-stuwe.de/en/refectory/cafeteria-unibibliothek-tuebingen/\n",
      "Rank: 3, Score: 4.917237758636475, URL: https://www.my-stuwe.de/en/refectory/mensa-for-kids/\n",
      "Rank: 4, Score: 4.863595962524414, URL: https://www.uni-tuebingen.de/en/research/centers-and-institutes/center-for-brazil-and-latin-america/\n",
      "Rank: 5, Score: 4.863595962524414, URL: https://uni-tuebingen.de/en/research/centers-and-institutes/center-for-brazil-and-latin-america/\n",
      "Rank: 6, Score: 4.813447952270508, URL: https://us.cnn.com/follow?iid=fw_var-nav\n",
      "Rank: 7, Score: 4.574601173400879, URL: https://www.my-stuwe.de/en/refectory/faqs-2/\n",
      "Rank: 8, Score: 4.517631530761719, URL: https://www.straitstimes.com/singapore\n",
      "Rank: 9, Score: 4.222332000732422, URL: https://tuebingenresearchcampus.com/en/tuebingen/accommodations/at-home-2\n"
     ]
    }
   ],
   "execution_count": 10
  },
  {
   "metadata": {},
   "cell_type": "code",
   "source": "",
   "id": "a8e4a1cd5b506d9b",
   "outputs": [],
   "execution_count": null
  }
 ],
 "metadata": {
  "kernelspec": {
   "display_name": "Python 3",
   "language": "python",
   "name": "python3"
  },
  "language_info": {
   "codemirror_mode": {
    "name": "ipython",
    "version": 2
   },
   "file_extension": ".py",
   "mimetype": "text/x-python",
   "name": "python",
   "nbconvert_exporter": "python",
   "pygments_lexer": "ipython2",
   "version": "2.7.6"
  }
 },
 "nbformat": 4,
 "nbformat_minor": 5
}
