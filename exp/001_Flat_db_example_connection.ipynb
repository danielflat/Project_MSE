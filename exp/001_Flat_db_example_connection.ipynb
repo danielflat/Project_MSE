{
 "cells": [
  {
   "metadata": {},
   "cell_type": "code",
   "source": [
    "import psycopg2\n",
    "import os"
   ],
   "id": "4c8d948a7f436128",
   "outputs": [],
   "execution_count": null
  },
  {
   "metadata": {},
   "cell_type": "markdown",
   "source": [
    "First lets connect ourselves with our POSTGRES db. The credentials are also copied in the `docker-compose.yml`.\n",
    "So before you are exec the next cell, please make sure that docker is installed on your machine. :)"
   ],
   "id": "e0a2aa104d9153a7"
  },
  {
   "metadata": {},
   "cell_type": "code",
   "source": [
    "# Connect to the database by exec docker compose in your terminal. This exec. a terminal command using Python\n",
    "os.system(\"\"\"\n",
    "docker compose down;\n",
    "docker compose up -d --build db\n",
    "\"\"\")"
   ],
   "id": "24c192461c57e39",
   "outputs": [],
   "execution_count": null
  },
  {
   "metadata": {},
   "cell_type": "markdown",
   "source": "When the cell returns 0, it means that everything was done correctly.",
   "id": "dbdd5f5dd0ee9676"
  },
  {
   "metadata": {},
   "cell_type": "code",
   "source": [
    "try:\n",
    "    # Connect to your PostgreSQL database. Here are the credentials written so the machine knows where connect to.\n",
    "    connection = psycopg2.connect(\n",
    "        user=\"user\",\n",
    "        password=\"user_pw\",\n",
    "        host=\"localhost\",\n",
    "        port=\"5432\",\n",
    "        database=\"search_engine_db\"\n",
    "    )\n",
    "\n",
    "    # Create a cursor object. We need this to execute queries.\n",
    "    cursor = connection.cursor()\n",
    "\n",
    "    # Print PostgreSQL version just as a sanity check.\n",
    "    cursor.execute(\"SELECT version();\")\n",
    "    record = cursor.fetchone()\n",
    "    print(\"You are connected to - \", record, \"\\n\")\n",
    "\n",
    "    # Example query: Create a table\n",
    "    create_search_index_table = '''\n",
    "        CREATE EXTENSION IF NOT EXISTS \"uuid-ossp\";\n",
    "        \n",
    "        CREATE TABLE IF NOT EXISTS documents (\n",
    "        id UUID PRIMARY KEY DEFAULT uuid_generate_v4(),\n",
    "        url TEXT,\n",
    "        title TEXT,\n",
    "\t    headings TEXT[],\n",
    "        page_text TEXT,\n",
    "        keywords TEXT[],\n",
    "        accessed_timestamp TIMESTAMP DEFAULT CURRENT_TIMESTAMP,\n",
    "        internal_links TEXT[],\n",
    "        external_links TEXT[],\n",
    "        enc_text TEXT[],\n",
    "        summary TEXT);   \n",
    "    );\n",
    "    '''\n",
    "    \n",
    "    # Executes a query statement\n",
    "    cursor.execute(create_search_index_table)\n",
    "    \n",
    "    # Commit the transaction to save changes. Should always be called after `cursor.execute(...)`\n",
    "    connection.commit()\n",
    "    print(\"Table created successfully\")\n",
    "\n",
    "    # Example query: Insert data\n",
    "    insert_query_example = \"INSERT INTO documents (url, content) VALUES (%s, %s)\"\n",
    "    \n",
    "    cursor.execute(insert_query_example, ('testurl', 'This is a nice content page!'))\n",
    "    connection.commit()\n",
    "    print(\"Data inserted successfully\")\n",
    "\n",
    "    # Example query: Retrieve data\n",
    "    cursor.execute(\"SELECT * FROM documents\")\n",
    "    records = cursor.fetchall()\n",
    "    print(\"Data retrieved successfully:\")\n",
    "    for row in records:\n",
    "        print(row)\n",
    "    \n",
    "    # To finish the connection with our db after you interact with it.\n",
    "    cursor.close()\n",
    "    connection.close()\n",
    "    print(\"PostgreSQL connection is closed\")\n",
    "\n",
    "except (Exception, psycopg2.Error) as error:\n",
    "        print(\"Error while connecting to PostgreSQL\", error)"
   ],
   "id": "60c7166b6462475a",
   "outputs": [],
   "execution_count": null
  },
  {
   "metadata": {},
   "cell_type": "markdown",
   "source": "When you see `PostgreSQL connection is closed`, you know that everything was done correctly. Now you can peak into the database, with e.g. DBeaver and see how the data looks like.",
   "id": "de58a53730061c78"
  },
  {
   "metadata": {},
   "cell_type": "markdown",
   "source": [
    "## CAUTION\n",
    "exec this table to delete all entries from the database\n"
   ],
   "id": "5efa4ded2af1a89a"
  },
  {
   "metadata": {},
   "cell_type": "code",
   "source": [
    "# CAUTION: exec this table to delete all entries from the database\n",
    "\n",
    "try:\n",
    "    # Connect to your PostgreSQL database. Here are the credentials written so the machine knows where connect to.\n",
    "    connection = psycopg2.connect(\n",
    "        user=\"user\",\n",
    "        password=\"user_pw\",\n",
    "        host=\"localhost\",\n",
    "        port=\"5432\",\n",
    "        database=\"search_engine_db\"\n",
    "    )\n",
    "\n",
    "    # Create a cursor object. We need this to execute queries.\n",
    "    cursor = connection.cursor()\n",
    "\n",
    "    # Delete all entries\n",
    "    cursor.execute(\"DELETE FROM documents\")\n",
    "    connection.commit()\n",
    "    print(\"Entries deleted successfully\")\n",
    "    \n",
    "    cursor.execute(\"SELECT * FROM documents\")\n",
    "    records = cursor.fetchall()\n",
    "    print(\"Data retrieved successfully:\")\n",
    "    if len(records) == 0:\n",
    "        print(\"No entries found\")\n",
    "    \n",
    "    # To finish the connection with our db after you interact with it.\n",
    "    cursor.close()\n",
    "    connection.close()\n",
    "    print(\"PostgreSQL connection is closed\")\n",
    "\n",
    "except (Exception, psycopg2.Error) as error:\n",
    "        print(\"Error while connecting to PostgreSQL\", error)"
   ],
   "id": "f0fac0aed71facd5",
   "outputs": [],
   "execution_count": null
  },
  {
   "metadata": {},
   "cell_type": "markdown",
   "source": "Finally, you should shut down the container and kill it.",
   "id": "db2a298e849cc959"
  },
  {
   "cell_type": "code",
   "id": "initial_id",
   "metadata": {
    "collapsed": true
   },
   "source": [
    "os.system(\"\"\"\n",
    "docker compose down;\n",
    "\"\"\")"
   ],
   "outputs": [],
   "execution_count": null
  },
  {
   "metadata": {},
   "cell_type": "code",
   "source": "",
   "id": "6a7297a2ae9ccf71",
   "outputs": [],
   "execution_count": null
  }
 ],
 "metadata": {
  "kernelspec": {
   "display_name": "Python 3",
   "language": "python",
   "name": "python3"
  },
  "language_info": {
   "codemirror_mode": {
    "name": "ipython",
    "version": 2
   },
   "file_extension": ".py",
   "mimetype": "text/x-python",
   "name": "python",
   "nbconvert_exporter": "python",
   "pygments_lexer": "ipython2",
   "version": "2.7.6"
  }
 },
 "nbformat": 4,
 "nbformat_minor": 5
}
