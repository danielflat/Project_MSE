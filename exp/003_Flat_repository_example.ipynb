{
 "cells": [
  {
   "cell_type": "code",
   "id": "initial_id",
   "metadata": {
    "collapsed": true,
    "ExecuteTime": {
     "end_time": "2024-07-01T18:09:46.521919Z",
     "start_time": "2024-07-01T18:09:46.499339Z"
    }
   },
   "source": [
    "import uuid\n",
    "import os\n",
    "\n",
    "from db.DocumentEntry import DocumentEntry\n",
    "from db.DocumentRepository import DocumentRepository\n",
    "from datetime import datetime, timedelta"
   ],
   "outputs": [],
   "execution_count": 1
  },
  {
   "metadata": {},
   "cell_type": "markdown",
   "source": "Let's see if the DocumentRepository works by testing the API.",
   "id": "2041060abe798dcd"
  },
  {
   "metadata": {},
   "cell_type": "markdown",
   "source": "Let's setup docker",
   "id": "a9cdce514dfbb952"
  },
  {
   "metadata": {
    "ExecuteTime": {
     "end_time": "2024-07-06T17:44:34.338464Z",
     "start_time": "2024-07-06T17:44:34.058518Z"
    }
   },
   "cell_type": "code",
   "source": [
    "# Connect to the database by exec docker compose in your terminal. This exec. a terminal command using Python\n",
    "os.system(\"\"\"\n",
    "docker compose down;\n",
    "docker compose up -d --build db\n",
    "\"\"\")"
   ],
   "id": "2d92cf94e9085d0b",
   "outputs": [
    {
     "ename": "NameError",
     "evalue": "name 'os' is not defined",
     "output_type": "error",
     "traceback": [
      "\u001B[0;31m---------------------------------------------------------------------------\u001B[0m",
      "\u001B[0;31mNameError\u001B[0m                                 Traceback (most recent call last)",
      "Cell \u001B[0;32mIn[1], line 2\u001B[0m\n\u001B[1;32m      1\u001B[0m \u001B[38;5;66;03m# Connect to the database by exec docker compose in your terminal. This exec. a terminal command using Python\u001B[39;00m\n\u001B[0;32m----> 2\u001B[0m \u001B[43mos\u001B[49m\u001B[38;5;241m.\u001B[39msystem(\u001B[38;5;124m\"\"\"\u001B[39m\n\u001B[1;32m      3\u001B[0m \u001B[38;5;124mdocker compose down;\u001B[39m\n\u001B[1;32m      4\u001B[0m \u001B[38;5;124mdocker compose up -d --build db\u001B[39m\n\u001B[1;32m      5\u001B[0m \u001B[38;5;124m\"\"\"\u001B[39m)\n",
      "\u001B[0;31mNameError\u001B[0m: name 'os' is not defined"
     ]
    }
   ],
   "execution_count": 1
  },
  {
   "metadata": {},
   "cell_type": "markdown",
   "source": "Let's first provide the data we want to save and load",
   "id": "f62433c0455b67f0"
  },
  {
   "metadata": {
    "ExecuteTime": {
     "end_time": "2024-07-01T18:09:46.553239Z",
     "start_time": "2024-07-01T18:09:46.523629Z"
    }
   },
   "cell_type": "code",
   "source": [
    "documentRepository = DocumentRepository()\n",
    "\n",
    "# Get the current local date and time\n",
    "now = datetime.now()\n",
    "\n",
    "entry1 = DocumentEntry(\"url1\", \"Title 1\", [\"heading1\"], \"page text 1\",\n",
    "                       [\"keyword1\", \"keyword2\", \"keyword3\", \"keyword4\", \"keyword5\", \"keyword6\", \"keyword7\"], datetime.now(), [], [\"myfirstevencoolerexternallink1\", \"myfirstevencoolerexternallink2\"])\n",
    "\n",
    "entry2 = DocumentEntry(\"url2\", None, [\"\", None], \"\",\n",
    "                        [None], now - timedelta(days=1), [None], [])\n",
    "# entry2 = DocumentEntry(\"url2\", [], \"content2\", now - timedelta(days=1))\n",
    "\n",
    "documentsToSave = [entry1, entry2]"
   ],
   "id": "6a82a88bdd8cee93",
   "outputs": [
    {
     "name": "stdout",
     "output_type": "stream",
     "text": [
      "SC: Connected to the db. Now you can go and build the best search engine around!\n"
     ]
    }
   ],
   "execution_count": 2
  },
  {
   "metadata": {},
   "cell_type": "markdown",
   "source": "Let's first clear the db",
   "id": "2203dc677a058be3"
  },
  {
   "metadata": {
    "ExecuteTime": {
     "end_time": "2024-07-01T18:09:46.562657Z",
     "start_time": "2024-07-01T18:09:46.554337Z"
    }
   },
   "cell_type": "code",
   "source": [
    "documentRepository.deleteAllDocuments()\n",
    "allDocuments = documentRepository.loadAllDocuments()\n",
    "allDocuments"
   ],
   "id": "b6b27f48d3355b6b",
   "outputs": [
    {
     "name": "stdout",
     "output_type": "stream",
     "text": [
      "SC: Deleted all documents.\n"
     ]
    },
    {
     "data": {
      "text/plain": [
       "[]"
      ]
     },
     "execution_count": 3,
     "metadata": {},
     "output_type": "execute_result"
    }
   ],
   "execution_count": 3
  },
  {
   "metadata": {},
   "cell_type": "markdown",
   "source": "How does it look after we save 2 elements?",
   "id": "44b432e6e1cfa4b7"
  },
  {
   "metadata": {
    "ExecuteTime": {
     "end_time": "2024-07-01T18:09:46.571461Z",
     "start_time": "2024-07-01T18:09:46.565179Z"
    }
   },
   "cell_type": "code",
   "source": [
    "documentRepository.saveAllDocuments(documentsToSave)\n",
    "allDocuments = documentRepository.loadAllDocuments()\n",
    "print(allDocuments)\n",
    "print(len(allDocuments))"
   ],
   "id": "e000b2f13de99514",
   "outputs": [
    {
     "name": "stdout",
     "output_type": "stream",
     "text": [
      "SC: All documents saved.\n",
      "[DocumentEntry[id=8b37b3e9-9..., url=url1, title=Title 1, headings=['heading1'], page_text=page text ..., keywords=['keyword1', 'keyword2', ...], accessed_timestamp=2024-07-01 20:09:46.551647], internal_links=[]], external_links=['myfirstevencoolerexternallink1', 'myfirstevencoolerexternallink2']], DocumentEntry[id=2003d486-5..., url=url2, title=None, headings=['', None], page_text=, keywords=[None], accessed_timestamp=2024-06-30 20:09:46.551566], internal_links=[None]], external_links=[]]]\n",
      "2\n"
     ]
    }
   ],
   "execution_count": 4
  },
  {
   "metadata": {},
   "cell_type": "markdown",
   "source": "Are the types correct?",
   "id": "abd37615024740ce"
  },
  {
   "metadata": {
    "ExecuteTime": {
     "end_time": "2024-07-01T18:09:46.575523Z",
     "start_time": "2024-07-01T18:09:46.572721Z"
    }
   },
   "cell_type": "code",
   "source": [
    "print(type(allDocuments))\n",
    "print(type(allDocuments[0]))"
   ],
   "id": "2f8a0ba0b1769387",
   "outputs": [
    {
     "name": "stdout",
     "output_type": "stream",
     "text": [
      "<class 'list'>\n",
      "<class 'db.DocumentEntry.DocumentEntry'>\n"
     ]
    }
   ],
   "execution_count": 5
  },
  {
   "metadata": {},
   "cell_type": "markdown",
   "source": "The first should be \"list\", the second \"db.DocumentEntry.DocumentEntry\".",
   "id": "ecf0812cac22f05b"
  },
  {
   "metadata": {},
   "cell_type": "markdown",
   "source": "Let's add one more element",
   "id": "ca6232b1651616f"
  },
  {
   "metadata": {
    "ExecuteTime": {
     "end_time": "2024-07-01T18:09:46.583727Z",
     "start_time": "2024-07-01T18:09:46.577102Z"
    }
   },
   "cell_type": "code",
   "source": [
    "entry3 = DocumentEntry(\"url3\", \"Title 3\", [\"heading3\"], \"page text 3\",\n",
    "                       [\"keyword1\"], datetime.now() - timedelta(days=2), [\"internalLink\"], [None, None], uuid.uuid4())\n",
    "\n",
    "# entry3 = DocumentEntry(\"url3\", [\"keyword5\"], \"content3\", datetime.now() - timedelta(days=2), uuid.uuid4())\n",
    "documentRepository.saveDocument(entry3)\n",
    "allDocuments = documentRepository.loadAllDocuments()\n",
    "allDocuments"
   ],
   "id": "a7c258c5a4485dd3",
   "outputs": [
    {
     "name": "stdout",
     "output_type": "stream",
     "text": [
      "SC: Saved document.\n"
     ]
    },
    {
     "data": {
      "text/plain": [
       "[DocumentEntry[id=8b37b3e9-9..., url=url1, title=Title 1, headings=['heading1'], page_text=page text ..., keywords=['keyword1', 'keyword2', ...], accessed_timestamp=2024-07-01 20:09:46.551647], internal_links=[]], external_links=['myfirstevencoolerexternallink1', 'myfirstevencoolerexternallink2']],\n",
       " DocumentEntry[id=2003d486-5..., url=url2, title=None, headings=['', None], page_text=, keywords=[None], accessed_timestamp=2024-06-30 20:09:46.551566], internal_links=[None]], external_links=[]],\n",
       " DocumentEntry[id=9683da87-5..., url=url3, title=Title 3, headings=['heading3'], page_text=page text ..., keywords=['keyword1'], accessed_timestamp=2024-06-29 20:09:46.578572], internal_links=['internalLink']], external_links=[None, None]]]"
      ]
     },
     "execution_count": 6,
     "metadata": {},
     "output_type": "execute_result"
    }
   ],
   "execution_count": 6
  },
  {
   "metadata": {},
   "cell_type": "markdown",
   "source": "Lets update this element",
   "id": "7d8a782e7b2d5a6b"
  },
  {
   "metadata": {
    "ExecuteTime": {
     "end_time": "2024-07-01T18:09:46.592530Z",
     "start_time": "2024-07-01T18:09:46.584933Z"
    }
   },
   "cell_type": "code",
   "source": [
    "entry3 = DocumentEntry(entry3.url, entry3.title, entry3.headings, entry3.page_text,\n",
    "                       [\"keyword1\", \"keyword6\"], entry3.accessed_timestamp, entry3.internal_links, entry3.external_links, entry3.id)\n",
    "documentRepository.updateDocument(entry3)\n",
    "allDocuments = documentRepository.loadAllDocuments()\n",
    "allDocuments"
   ],
   "id": "8f9a15b6c7d14021",
   "outputs": [
    {
     "name": "stdout",
     "output_type": "stream",
     "text": [
      "SC: Updated document.\n"
     ]
    },
    {
     "data": {
      "text/plain": [
       "[DocumentEntry[id=8b37b3e9-9..., url=url1, title=Title 1, headings=['heading1'], page_text=page text ..., keywords=['keyword1', 'keyword2', ...], accessed_timestamp=2024-07-01 20:09:46.551647], internal_links=[]], external_links=['myfirstevencoolerexternallink1', 'myfirstevencoolerexternallink2']],\n",
       " DocumentEntry[id=2003d486-5..., url=url2, title=None, headings=['', None], page_text=, keywords=[None], accessed_timestamp=2024-06-30 20:09:46.551566], internal_links=[None]], external_links=[]],\n",
       " DocumentEntry[id=9683da87-5..., url=url3, title=Title 3, headings=['heading3'], page_text=page text ..., keywords=['keyword1', 'keyword6'], accessed_timestamp=2024-06-29 20:09:46.578572], internal_links=['internalLink']], external_links=[None, None]]]"
      ]
     },
     "execution_count": 7,
     "metadata": {},
     "output_type": "execute_result"
    }
   ],
   "execution_count": 7
  },
  {
   "metadata": {},
   "cell_type": "markdown",
   "source": "Lets delete this elemente again",
   "id": "700a9f118a8abf7b"
  },
  {
   "metadata": {
    "ExecuteTime": {
     "end_time": "2024-07-01T18:09:46.599623Z",
     "start_time": "2024-07-01T18:09:46.593864Z"
    }
   },
   "cell_type": "code",
   "source": [
    "documentRepository.deleteDocument(entry3)\n",
    "allDocuments = documentRepository.loadAllDocuments()\n",
    "allDocuments"
   ],
   "id": "1c689fefffad7c9d",
   "outputs": [
    {
     "name": "stdout",
     "output_type": "stream",
     "text": [
      "SC: Deleted document.\n"
     ]
    },
    {
     "data": {
      "text/plain": [
       "[DocumentEntry[id=8b37b3e9-9..., url=url1, title=Title 1, headings=['heading1'], page_text=page text ..., keywords=['keyword1', 'keyword2', ...], accessed_timestamp=2024-07-01 20:09:46.551647], internal_links=[]], external_links=['myfirstevencoolerexternallink1', 'myfirstevencoolerexternallink2']],\n",
       " DocumentEntry[id=2003d486-5..., url=url2, title=None, headings=['', None], page_text=, keywords=[None], accessed_timestamp=2024-06-30 20:09:46.551566], internal_links=[None]], external_links=[]]]"
      ]
     },
     "execution_count": 8,
     "metadata": {},
     "output_type": "execute_result"
    }
   ],
   "execution_count": 8
  },
  {
   "metadata": {},
   "cell_type": "markdown",
   "source": "Do we have 0 elements when we decide to clear the index?",
   "id": "8ac76eeb0e711a6b"
  },
  {
   "metadata": {
    "ExecuteTime": {
     "end_time": "2024-07-01T18:09:46.606412Z",
     "start_time": "2024-07-01T18:09:46.600899Z"
    }
   },
   "cell_type": "code",
   "source": [
    "documentRepository.deleteAllDocuments()\n",
    "allDocuments = documentRepository.loadAllDocuments()\n",
    "allDocuments"
   ],
   "id": "1aae1b7177ca8b4d",
   "outputs": [
    {
     "name": "stdout",
     "output_type": "stream",
     "text": [
      "SC: Deleted all documents.\n"
     ]
    },
    {
     "data": {
      "text/plain": [
       "[]"
      ]
     },
     "execution_count": 9,
     "metadata": {},
     "output_type": "execute_result"
    }
   ],
   "execution_count": 9
  },
  {
   "metadata": {},
   "cell_type": "markdown",
   "source": "When you get \"[]\", everything was right.",
   "id": "d21b53a1fd14b048"
  },
  {
   "metadata": {},
   "cell_type": "markdown",
   "source": "Finally, you should shut down the container and kill it.",
   "id": "236ed75db6d9ec0e"
  },
  {
   "metadata": {},
   "cell_type": "code",
   "outputs": [],
   "execution_count": null,
   "source": [
    "os.system(\"\"\"\n",
    "docker compose down;\n",
    "\"\"\")"
   ],
   "id": "4171dbc72d9e73b9"
  }
 ],
 "metadata": {
  "kernelspec": {
   "display_name": "Python 3",
   "language": "python",
   "name": "python3"
  },
  "language_info": {
   "codemirror_mode": {
    "name": "ipython",
    "version": 2
   },
   "file_extension": ".py",
   "mimetype": "text/x-python",
   "name": "python",
   "nbconvert_exporter": "python",
   "pygments_lexer": "ipython2",
   "version": "2.7.6"
  }
 },
 "nbformat": 4,
 "nbformat_minor": 5
}
