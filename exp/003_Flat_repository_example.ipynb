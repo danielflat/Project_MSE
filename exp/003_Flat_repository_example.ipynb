{
 "cells": [
  {
   "cell_type": "code",
   "id": "initial_id",
   "metadata": {
    "collapsed": true
   },
   "source": [
    "import uuid\n",
    "\n",
    "from db.DocumentEntry import DocumentEntry\n",
    "from db.DocumentRepository import DocumentRepository\n",
    "from datetime import datetime, timedelta"
   ],
   "outputs": [],
   "execution_count": null
  },
  {
   "metadata": {},
   "cell_type": "markdown",
   "source": "Let's see if the DocumentRepository works by testing the API.",
   "id": "2041060abe798dcd"
  },
  {
   "metadata": {},
   "cell_type": "markdown",
   "source": "Let's first provide the data we want to save and load",
   "id": "f62433c0455b67f0"
  },
  {
   "metadata": {},
   "cell_type": "code",
   "source": [
    "documentRepository = DocumentRepository()\n",
    "\n",
    "# Get the current local date and time\n",
    "now = datetime.now()\n",
    "\n",
    "entry1 = DocumentEntry(\"url1\", \"Title 1\", [\"heading1\"], \"page text 1\",\n",
    "                       [\"keyword1\", \"keyword2\", \"keyword3\", \"keyword4\", \"keyword5\", \"keyword6\", \"keyword7\"], datetime.now(), [], [\"myfirstevencoolerexternallink1\", \"myfirstevencoolerexternallink2\"], uuid.uuid4())\n",
    "\n",
    "entry2 = DocumentEntry(\"url2\", None, [\"\", None], \"\",\n",
    "                       [None], now - timedelta(days=1), [None], [])\n",
    "# entry2 = DocumentEntry(\"url2\", [], \"content2\", now - timedelta(days=1))\n",
    "\n",
    "documentsToSave = [entry1, entry2]"
   ],
   "id": "351bc30b8fb06ece",
   "outputs": [],
   "execution_count": null
  },
  {
   "metadata": {},
   "cell_type": "markdown",
   "source": "Let's first clear the db",
   "id": "1cea392b437bce2f"
  },
  {
   "metadata": {},
   "cell_type": "code",
   "source": [
    "documentRepository.deleteAllDocuments()\n",
    "allDocuments = documentRepository.loadAllDocuments()\n",
    "allDocuments"
   ],
   "id": "bfea46cd80cc0d8a",
   "outputs": [],
   "execution_count": null
  },
  {
   "metadata": {},
   "cell_type": "markdown",
   "source": "How does it look after we save 2 elements?",
   "id": "47c45e6c2fbc83b1"
  },
  {
   "metadata": {},
   "cell_type": "code",
   "source": [
    "documentRepository.saveAllDocuments(documentsToSave)\n",
    "allDocuments = documentRepository.loadAllDocuments()\n",
    "print(allDocuments)\n",
    "print(len(allDocuments))"
   ],
   "id": "a34b0e5b761efac4",
   "outputs": [],
   "execution_count": null
  },
  {
   "metadata": {},
   "cell_type": "markdown",
   "source": "Are the types correct?",
   "id": "fb68b4b97bed7c32"
  },
  {
   "metadata": {},
   "cell_type": "code",
   "source": [
    "print(type(allDocuments))\n",
    "print(type(allDocuments[0]))"
   ],
   "id": "71a15bf9501649a3",
   "outputs": [],
   "execution_count": null
  },
  {
   "metadata": {},
   "cell_type": "markdown",
   "source": "The first should be \"list\", the second \"db.DocumentEntry.DocumentEntry\".",
   "id": "2da49ad42e0722f"
  },
  {
   "metadata": {},
   "cell_type": "markdown",
   "source": "Let's add one more element",
   "id": "270a04413048a3ee"
  },
  {
   "metadata": {},
   "cell_type": "code",
   "source": [
    "entry3 = DocumentEntry(\"url3\", \"Title 3\", [\"heading3\"], \"page text 3\",\n",
    "                       [\"keyword1\"], datetime.now() - timedelta(days=2), [\"internalLink\"], [None, None], uuid.uuid4())\n",
    "\n",
    "# entry3 = DocumentEntry(\"url3\", [\"keyword5\"], \"content3\", datetime.now() - timedelta(days=2), uuid.uuid4())\n",
    "documentRepository.saveDocument(entry3)\n",
    "allDocuments = documentRepository.loadAllDocuments()\n",
    "allDocuments"
   ],
   "id": "12a47fb4a56fd5c3",
   "outputs": [],
   "execution_count": null
  },
  {
   "metadata": {},
   "cell_type": "markdown",
   "source": "Lets update this element",
   "id": "6b0a3aa569b080f7"
  },
  {
   "metadata": {},
   "cell_type": "code",
   "source": [
    "entry3 = DocumentEntry(entry3.url, entry3.title, entry3.headings, entry3.page_text,\n",
    "                       [\"keyword1\", \"keyword6\"], entry3.accessed_timestamp, entry3.internal_links, entry3.external_links, entry3.id)\n",
    "documentRepository.updateDocument(entry3)\n",
    "allDocuments = documentRepository.loadAllDocuments()\n",
    "allDocuments"
   ],
   "id": "c7ef96833c2bcd2c",
   "outputs": [],
   "execution_count": null
  },
  {
   "metadata": {},
   "cell_type": "markdown",
   "source": "Lets delete this elemente again",
   "id": "b3f784827f5a069"
  },
  {
   "metadata": {},
   "cell_type": "code",
   "source": [
    "documentRepository.deleteDocument(entry3)\n",
    "allDocuments = documentRepository.loadAllDocuments()\n",
    "allDocuments"
   ],
   "id": "6c16e30169f97a76",
   "outputs": [],
   "execution_count": null
  },
  {
   "metadata": {},
   "cell_type": "markdown",
   "source": "Do we have 0 elements when we decide to clear the index?",
   "id": "8ac76eeb0e711a6b"
  },
  {
   "metadata": {},
   "cell_type": "code",
   "source": [
    "documentRepository.deleteAllDocuments()\n",
    "allDocuments = documentRepository.loadAllDocuments()\n",
    "allDocuments"
   ],
   "id": "1aae1b7177ca8b4d",
   "outputs": [],
   "execution_count": null
  },
  {
   "metadata": {},
   "cell_type": "markdown",
   "source": "When you get \"[]\", everything was right.",
   "id": "d21b53a1fd14b048"
  },
  {
   "metadata": {},
   "cell_type": "code",
   "source": "",
   "id": "250133da6d507cdd",
   "outputs": [],
   "execution_count": null
  }
 ],
 "metadata": {
  "kernelspec": {
   "display_name": "Python 3",
   "language": "python",
   "name": "python3"
  },
  "language_info": {
   "codemirror_mode": {
    "name": "ipython",
    "version": 2
   },
   "file_extension": ".py",
   "mimetype": "text/x-python",
   "name": "python",
   "nbconvert_exporter": "python",
   "pygments_lexer": "ipython2",
   "version": "2.7.6"
  }
 },
 "nbformat": 4,
 "nbformat_minor": 5
}
