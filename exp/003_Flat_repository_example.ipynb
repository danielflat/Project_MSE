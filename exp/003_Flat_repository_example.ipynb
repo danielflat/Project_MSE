{
 "cells": [
  {
   "cell_type": "code",
   "id": "initial_id",
   "metadata": {
    "collapsed": true,
    "ExecuteTime": {
     "end_time": "2024-06-30T17:24:22.569559Z",
     "start_time": "2024-06-30T17:24:22.536406Z"
    }
   },
   "source": [
    "import uuid\n",
    "\n",
    "from db.DocumentEntry import DocumentEntry\n",
    "from db.DocumentRepository import DocumentRepository\n",
    "from datetime import datetime, timedelta"
   ],
   "outputs": [],
   "execution_count": 1
  },
  {
   "metadata": {},
   "cell_type": "markdown",
   "source": "Let's see if the DocumentRepository works by testing the API.",
   "id": "2041060abe798dcd"
  },
  {
   "metadata": {},
   "cell_type": "markdown",
   "source": "Let's first provide the data we want to save and load",
   "id": "f62433c0455b67f0"
  },
  {
   "metadata": {
    "ExecuteTime": {
     "end_time": "2024-06-30T17:24:22.615489Z",
     "start_time": "2024-06-30T17:24:22.572784Z"
    }
   },
   "cell_type": "code",
   "source": [
    "documentRepository = DocumentRepository()\n",
    "\n",
    "# Get the current local date and time\n",
    "now = datetime.now()\n",
    "\n",
    "# Format the date and time as a string\n",
    "formatted_date_time = now.strftime(\"%Y-%m-%d %H:%M:%S\")\n",
    "\n",
    "entry1 = DocumentEntry(\"url1\", [\"keyword1\", \"keyword2\", \"keyword3\", \"keyword4\", \"keyword5\", \"keyword6\", \"keyword7\"], \"This is a nice content page\", datetime.now(), uuid.uuid4())\n",
    "entry2 = DocumentEntry(\"url2\", [], \"content2\", now - timedelta(days=1))\n",
    "\n",
    "documentsToSave = [entry1, entry2]"
   ],
   "id": "351bc30b8fb06ece",
   "outputs": [
    {
     "name": "stdout",
     "output_type": "stream",
     "text": [
      "SC: Connected to the db. Now you can go and build the best search engine around!\n"
     ]
    }
   ],
   "execution_count": 2
  },
  {
   "metadata": {},
   "cell_type": "markdown",
   "source": "Let's first clear the db",
   "id": "1cea392b437bce2f"
  },
  {
   "metadata": {
    "ExecuteTime": {
     "end_time": "2024-06-30T17:24:22.630918Z",
     "start_time": "2024-06-30T17:24:22.617488Z"
    }
   },
   "cell_type": "code",
   "source": [
    "documentRepository.deleteAllDocuments()\n",
    "allDocuments = documentRepository.loadAllDocuments()\n",
    "allDocuments"
   ],
   "id": "bfea46cd80cc0d8a",
   "outputs": [
    {
     "name": "stdout",
     "output_type": "stream",
     "text": [
      "SC: Deleted all documents.\n"
     ]
    },
    {
     "data": {
      "text/plain": [
       "[]"
      ]
     },
     "execution_count": 3,
     "metadata": {},
     "output_type": "execute_result"
    }
   ],
   "execution_count": 3
  },
  {
   "metadata": {},
   "cell_type": "markdown",
   "source": "How does it look after we save 2 elements?",
   "id": "47c45e6c2fbc83b1"
  },
  {
   "metadata": {
    "ExecuteTime": {
     "end_time": "2024-06-30T17:24:22.642251Z",
     "start_time": "2024-06-30T17:24:22.632650Z"
    }
   },
   "cell_type": "code",
   "source": [
    "documentRepository.saveAllDocuments(documentsToSave)\n",
    "allDocuments = documentRepository.loadAllDocuments()\n",
    "print(allDocuments)\n",
    "print(len(allDocuments))"
   ],
   "id": "a34b0e5b761efac4",
   "outputs": [
    {
     "name": "stdout",
     "output_type": "stream",
     "text": [
      "SC: All documents saved.\n",
      "[DocumentEntry[id=654d05ef-1..., url=url1, keywords=['keyword1', 'keyword2', ...], content=This is a ..., last_updated=2024-06-30 19:24:22.613541], DocumentEntry[id=b78be371-e..., url=url2, keywords=[], content=content2, last_updated=2024-06-29 19:24:22.613375]]\n",
      "2\n"
     ]
    }
   ],
   "execution_count": 4
  },
  {
   "metadata": {},
   "cell_type": "markdown",
   "source": "Are the types correct?",
   "id": "fb68b4b97bed7c32"
  },
  {
   "metadata": {
    "ExecuteTime": {
     "end_time": "2024-06-30T17:24:22.649316Z",
     "start_time": "2024-06-30T17:24:22.645920Z"
    }
   },
   "cell_type": "code",
   "source": [
    "print(type(allDocuments))\n",
    "print(type(allDocuments[0]))"
   ],
   "id": "71a15bf9501649a3",
   "outputs": [
    {
     "name": "stdout",
     "output_type": "stream",
     "text": [
      "<class 'list'>\n",
      "<class 'db.DocumentEntry.DocumentEntry'>\n"
     ]
    }
   ],
   "execution_count": 5
  },
  {
   "metadata": {},
   "cell_type": "markdown",
   "source": "The first should be \"list\", the second \"db.DocumentEntry.DocumentEntry\".",
   "id": "2da49ad42e0722f"
  },
  {
   "metadata": {},
   "cell_type": "markdown",
   "source": "Let's add one more element",
   "id": "270a04413048a3ee"
  },
  {
   "metadata": {
    "ExecuteTime": {
     "end_time": "2024-06-30T17:24:22.661854Z",
     "start_time": "2024-06-30T17:24:22.651255Z"
    }
   },
   "cell_type": "code",
   "source": [
    "entry3 = DocumentEntry(\"url3\", [\"keyword5\"], \"content3\", datetime.now() - timedelta(days=2), uuid.uuid4())\n",
    "documentRepository.saveDocument(entry3)\n",
    "allDocuments = documentRepository.loadAllDocuments()\n",
    "allDocuments"
   ],
   "id": "12a47fb4a56fd5c3",
   "outputs": [
    {
     "name": "stdout",
     "output_type": "stream",
     "text": [
      "SC: Saved document.\n"
     ]
    },
    {
     "data": {
      "text/plain": [
       "[DocumentEntry[id=654d05ef-1..., url=url1, keywords=['keyword1', 'keyword2', ...], content=This is a ..., last_updated=2024-06-30 19:24:22.613541],\n",
       " DocumentEntry[id=b78be371-e..., url=url2, keywords=[], content=content2, last_updated=2024-06-29 19:24:22.613375],\n",
       " DocumentEntry[id=abf51256-5..., url=url3, keywords=['keyword5'], content=content3, last_updated=2024-06-28 19:24:22.653040]]"
      ]
     },
     "execution_count": 6,
     "metadata": {},
     "output_type": "execute_result"
    }
   ],
   "execution_count": 6
  },
  {
   "metadata": {},
   "cell_type": "markdown",
   "source": "Lets update this element",
   "id": "6b0a3aa569b080f7"
  },
  {
   "metadata": {
    "ExecuteTime": {
     "end_time": "2024-06-30T17:24:22.672728Z",
     "start_time": "2024-06-30T17:24:22.663307Z"
    }
   },
   "cell_type": "code",
   "source": [
    "entry4 = DocumentEntry(entry3.url, [\"keyword5\", \"keyword6\"], entry3.content, entry3.last_updated, entry3.id)  # added keyword6\n",
    "documentRepository.updateDocument(entry4)\n",
    "allDocuments = documentRepository.loadAllDocuments()\n",
    "allDocuments"
   ],
   "id": "c7ef96833c2bcd2c",
   "outputs": [
    {
     "name": "stdout",
     "output_type": "stream",
     "text": [
      "SC: Updated document.\n"
     ]
    },
    {
     "data": {
      "text/plain": [
       "[DocumentEntry[id=654d05ef-1..., url=url1, keywords=['keyword1', 'keyword2', ...], content=This is a ..., last_updated=2024-06-30 19:24:22.613541],\n",
       " DocumentEntry[id=b78be371-e..., url=url2, keywords=[], content=content2, last_updated=2024-06-29 19:24:22.613375],\n",
       " DocumentEntry[id=abf51256-5..., url=url3, keywords=['keyword5', 'keyword6'], content=content3, last_updated=2024-06-28 19:24:22.653040]]"
      ]
     },
     "execution_count": 7,
     "metadata": {},
     "output_type": "execute_result"
    }
   ],
   "execution_count": 7
  },
  {
   "metadata": {},
   "cell_type": "markdown",
   "source": "Lets delete this elemente again",
   "id": "b3f784827f5a069"
  },
  {
   "metadata": {
    "ExecuteTime": {
     "end_time": "2024-06-30T17:24:22.681925Z",
     "start_time": "2024-06-30T17:24:22.674333Z"
    }
   },
   "cell_type": "code",
   "source": [
    "documentRepository.deleteDocument(entry4)\n",
    "allDocuments = documentRepository.loadAllDocuments()\n",
    "allDocuments"
   ],
   "id": "6c16e30169f97a76",
   "outputs": [
    {
     "name": "stdout",
     "output_type": "stream",
     "text": [
      "SC: Deleted document.\n"
     ]
    },
    {
     "data": {
      "text/plain": [
       "[DocumentEntry[id=654d05ef-1..., url=url1, keywords=['keyword1', 'keyword2', ...], content=This is a ..., last_updated=2024-06-30 19:24:22.613541],\n",
       " DocumentEntry[id=b78be371-e..., url=url2, keywords=[], content=content2, last_updated=2024-06-29 19:24:22.613375]]"
      ]
     },
     "execution_count": 8,
     "metadata": {},
     "output_type": "execute_result"
    }
   ],
   "execution_count": 8
  },
  {
   "metadata": {},
   "cell_type": "markdown",
   "source": "Do we have 0 elements when we decide to clear the index?",
   "id": "8ac76eeb0e711a6b"
  },
  {
   "metadata": {
    "ExecuteTime": {
     "end_time": "2024-06-30T17:24:22.691822Z",
     "start_time": "2024-06-30T17:24:22.683534Z"
    }
   },
   "cell_type": "code",
   "source": [
    "documentRepository.deleteAllDocuments()\n",
    "allDocuments = documentRepository.loadAllDocuments()\n",
    "allDocuments"
   ],
   "id": "1aae1b7177ca8b4d",
   "outputs": [
    {
     "name": "stdout",
     "output_type": "stream",
     "text": [
      "SC: Deleted all documents.\n"
     ]
    },
    {
     "data": {
      "text/plain": [
       "[]"
      ]
     },
     "execution_count": 9,
     "metadata": {},
     "output_type": "execute_result"
    }
   ],
   "execution_count": 9
  },
  {
   "metadata": {},
   "cell_type": "markdown",
   "source": "When you get \"[]\", everything was right.",
   "id": "d21b53a1fd14b048"
  },
  {
   "metadata": {
    "ExecuteTime": {
     "end_time": "2024-06-30T17:24:22.695781Z",
     "start_time": "2024-06-30T17:24:22.693399Z"
    }
   },
   "cell_type": "code",
   "source": "",
   "id": "250133da6d507cdd",
   "outputs": [],
   "execution_count": 9
  }
 ],
 "metadata": {
  "kernelspec": {
   "display_name": "Python 3",
   "language": "python",
   "name": "python3"
  },
  "language_info": {
   "codemirror_mode": {
    "name": "ipython",
    "version": 2
   },
   "file_extension": ".py",
   "mimetype": "text/x-python",
   "name": "python",
   "nbconvert_exporter": "python",
   "pygments_lexer": "ipython2",
   "version": "2.7.6"
  }
 },
 "nbformat": 4,
 "nbformat_minor": 5
}
