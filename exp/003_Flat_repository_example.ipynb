{
 "cells": [
  {
   "cell_type": "code",
   "id": "initial_id",
   "metadata": {
    "collapsed": true,
    "ExecuteTime": {
     "end_time": "2024-07-14T17:24:54.958861Z",
     "start_time": "2024-07-14T17:24:52.601287Z"
    }
   },
   "source": [
    "import uuid\n",
    "import os\n",
    "\n",
    "from db.DocumentEntry import DocumentEntry\n",
    "from db.DocumentRepository import DocumentRepository\n",
    "from datetime import datetime, timedelta"
   ],
   "outputs": [],
   "execution_count": 1
  },
  {
   "metadata": {},
   "cell_type": "markdown",
   "source": "Let's see if the DocumentRepository works by testing the API.",
   "id": "2041060abe798dcd"
  },
  {
   "metadata": {},
   "cell_type": "markdown",
   "source": "Let's setup docker",
   "id": "a9cdce514dfbb952"
  },
  {
   "metadata": {
    "ExecuteTime": {
     "end_time": "2024-07-14T17:24:59.168121Z",
     "start_time": "2024-07-14T17:24:54.961702Z"
    }
   },
   "cell_type": "code",
   "source": [
    "# Connect to the database by exec docker compose in your terminal. This exec. a terminal command using Python\n",
    "os.system(\"\"\"\n",
    "docker compose down;\n",
    "docker compose up -d --build db;\n",
    "sleep 3;\n",
    "\"\"\")"
   ],
   "id": "2d92cf94e9085d0b",
   "outputs": [
    {
     "name": "stdout",
     "output_type": "stream",
     "text": [
      "#0 building with \"desktop-linux\" instance using docker driver\n",
      "\n",
      "#1 [db internal] load build definition from Dockerfile\n",
      "#1 transferring dockerfile: 122B done\n",
      "#1 DONE 0.0s\n",
      "\n",
      "#2 [db internal] load metadata for docker.io/library/postgres:latest\n",
      "#2 DONE 0.0s\n",
      "\n",
      "#3 [db internal] load .dockerignore\n",
      "#3 transferring context: 2B done\n",
      "#3 DONE 0.0s\n",
      "\n",
      "#4 [db 1/2] FROM docker.io/library/postgres:latest\n",
      "#4 DONE 0.0s\n",
      "\n",
      "#5 [db internal] load build context\n",
      "#5 transferring context: 69B done\n",
      "#5 DONE 0.0s\n",
      "\n",
      "#6 [db 2/2] COPY dump.sql /docker-entrypoint-initdb.d/\n",
      "#6 CACHED\n",
      "\n",
      "#7 [db] exporting to image\n",
      "#7 exporting layers done\n",
      "#7 writing image sha256:4309df92e6a4a6651b884dd8eea6e932d63c0bf202ba691fa3819b60a26bbc2b done\n",
      "#7 naming to docker.io/library/project_mse-db done\n",
      "#7 DONE 0.0s\n"
     ]
    },
    {
     "name": "stderr",
     "output_type": "stream",
     "text": [
      " Network project_mse_default  Creating\n",
      " Network project_mse_default  Created\n",
      " Container project_mse-db-1  Creating\n",
      " Container project_mse-db-1  Created\n",
      " Container project_mse-db-1  Starting\n",
      " Container project_mse-db-1  Started\n"
     ]
    },
    {
     "data": {
      "text/plain": [
       "0"
      ]
     },
     "execution_count": 2,
     "metadata": {},
     "output_type": "execute_result"
    }
   ],
   "execution_count": 2
  },
  {
   "metadata": {},
   "cell_type": "markdown",
   "source": "Let's first provide the data we want to save and load",
   "id": "f62433c0455b67f0"
  },
  {
   "metadata": {
    "ExecuteTime": {
     "end_time": "2024-07-14T17:24:59.832Z",
     "start_time": "2024-07-14T17:24:59.170371Z"
    }
   },
   "cell_type": "code",
   "source": [
    "documentRepository = DocumentRepository()\n",
    "\n",
    "# Get the current local date and time\n",
    "now = datetime.now()\n",
    "\n",
    "entry1 = DocumentEntry(\"url1\", \"Title 1\", [\"heading1\"], \"page text 1\",\n",
    "                       [\"keyword1\", \"keyword2\", \"keyword3\", \"keyword4\", \"keyword5\", \"keyword6\", \"keyword7\"], datetime.now(), [], [\"myfirstevencoolerexternallink1\", \"myfirstevencoolerexternallink2\"])\n",
    "\n",
    "entry2 = DocumentEntry(\"url2\", None, [\"\", None], \"\",\n",
    "                        [None], now - timedelta(days=1), [None], [])\n",
    "# entry2 = DocumentEntry(\"url2\", [], \"content2\", now - timedelta(days=1))\n",
    "\n",
    "documentsToSave = [entry1, entry2]"
   ],
   "id": "6a82a88bdd8cee93",
   "outputs": [
    {
     "name": "stdout",
     "output_type": "stream",
     "text": [
      "SC: Connected to the db. Now you can go and build the best search engine around!\n"
     ]
    }
   ],
   "execution_count": 3
  },
  {
   "metadata": {},
   "cell_type": "markdown",
   "source": "Let's first clear the db",
   "id": "2203dc677a058be3"
  },
  {
   "metadata": {
    "ExecuteTime": {
     "end_time": "2024-07-14T17:24:59.852018Z",
     "start_time": "2024-07-14T17:24:59.835440Z"
    }
   },
   "cell_type": "code",
   "source": [
    "documentRepository.deleteAllDocuments()\n",
    "allDocuments = documentRepository.loadAllDocuments()\n",
    "allDocuments"
   ],
   "id": "b6b27f48d3355b6b",
   "outputs": [
    {
     "name": "stdout",
     "output_type": "stream",
     "text": [
      "SC: Deleted all documents.\n"
     ]
    },
    {
     "data": {
      "text/plain": [
       "[]"
      ]
     },
     "execution_count": 4,
     "metadata": {},
     "output_type": "execute_result"
    }
   ],
   "execution_count": 4
  },
  {
   "metadata": {},
   "cell_type": "markdown",
   "source": "How does it look after we save 2 elements?",
   "id": "44b432e6e1cfa4b7"
  },
  {
   "metadata": {
    "ExecuteTime": {
     "end_time": "2024-07-14T17:24:59.861772Z",
     "start_time": "2024-07-14T17:24:59.853860Z"
    }
   },
   "cell_type": "code",
   "source": [
    "documentRepository.saveAllDocuments(documentsToSave)\n",
    "allDocuments = documentRepository.loadAllDocuments()\n",
    "print(allDocuments)\n",
    "print(len(allDocuments))"
   ],
   "id": "e000b2f13de99514",
   "outputs": [
    {
     "name": "stdout",
     "output_type": "stream",
     "text": [
      "SC: All documents saved.\n",
      "[DocumentEntry[id=94228268-7..., url=url1, title=Title 1, headings=['heading1'], page_text=page text ..., keywords=['keyword1', 'keyword2', ...], accessed_timestamp=2024-07-14 19:24:59.829798], internal_links=[]], external_links=['myfirstevencoolerexternallink1', 'myfirstevencoolerexternallink2']], DocumentEntry[id=e0f016e9-7..., url=url2, title=None, headings=['', None], page_text=, keywords=[None], accessed_timestamp=2024-07-13 19:24:59.829695], internal_links=[None]], external_links=[]]]\n",
      "2\n"
     ]
    }
   ],
   "execution_count": 5
  },
  {
   "metadata": {},
   "cell_type": "markdown",
   "source": "Are the types correct?",
   "id": "abd37615024740ce"
  },
  {
   "metadata": {
    "ExecuteTime": {
     "end_time": "2024-07-14T17:24:59.867238Z",
     "start_time": "2024-07-14T17:24:59.863582Z"
    }
   },
   "cell_type": "code",
   "source": [
    "print(type(allDocuments))\n",
    "print(type(allDocuments[0]))"
   ],
   "id": "2f8a0ba0b1769387",
   "outputs": [
    {
     "name": "stdout",
     "output_type": "stream",
     "text": [
      "<class 'list'>\n",
      "<class 'db.DocumentEntry.DocumentEntry'>\n"
     ]
    }
   ],
   "execution_count": 6
  },
  {
   "metadata": {},
   "cell_type": "markdown",
   "source": "The first should be \"list\", the second \"db.DocumentEntry.DocumentEntry\".",
   "id": "ecf0812cac22f05b"
  },
  {
   "metadata": {},
   "cell_type": "markdown",
   "source": "Let's add one more element",
   "id": "ca6232b1651616f"
  },
  {
   "metadata": {
    "ExecuteTime": {
     "end_time": "2024-07-14T17:24:59.878827Z",
     "start_time": "2024-07-14T17:24:59.869874Z"
    }
   },
   "cell_type": "code",
   "source": [
    "entry3 = DocumentEntry(\"url3\", \"Title 3\", [\"heading3\"], \"page text 3\",\n",
    "                       [\"keyword1\"], datetime.now() - timedelta(days=2), [\"internalLink\"], [None, None], uuid.uuid4())\n",
    "\n",
    "# entry3 = DocumentEntry(\"url3\", [\"keyword5\"], \"content3\", datetime.now() - timedelta(days=2), uuid.uuid4())\n",
    "documentRepository.saveDocument(entry3)\n",
    "allDocuments = documentRepository.loadAllDocuments()\n",
    "allDocuments"
   ],
   "id": "a7c258c5a4485dd3",
   "outputs": [
    {
     "name": "stdout",
     "output_type": "stream",
     "text": [
      "SC: Saved document.\n"
     ]
    },
    {
     "data": {
      "text/plain": [
       "[DocumentEntry[id=94228268-7..., url=url1, title=Title 1, headings=['heading1'], page_text=page text ..., keywords=['keyword1', 'keyword2', ...], accessed_timestamp=2024-07-14 19:24:59.829798], internal_links=[]], external_links=['myfirstevencoolerexternallink1', 'myfirstevencoolerexternallink2']],\n",
       " DocumentEntry[id=e0f016e9-7..., url=url2, title=None, headings=['', None], page_text=, keywords=[None], accessed_timestamp=2024-07-13 19:24:59.829695], internal_links=[None]], external_links=[]],\n",
       " DocumentEntry[id=7455f951-2..., url=url3, title=Title 3, headings=['heading3'], page_text=page text ..., keywords=['keyword1'], accessed_timestamp=2024-07-12 19:24:59.871836], internal_links=['internalLink']], external_links=[None, None]]]"
      ]
     },
     "execution_count": 7,
     "metadata": {},
     "output_type": "execute_result"
    }
   ],
   "execution_count": 7
  },
  {
   "metadata": {},
   "cell_type": "markdown",
   "source": "Lets update this element",
   "id": "7d8a782e7b2d5a6b"
  },
  {
   "metadata": {
    "ExecuteTime": {
     "end_time": "2024-07-14T17:24:59.890397Z",
     "start_time": "2024-07-14T17:24:59.880803Z"
    }
   },
   "cell_type": "code",
   "source": [
    "entry3 = DocumentEntry(entry3.url, entry3.title, entry3.headings, entry3.page_text,\n",
    "                       [\"keyword1\", \"keyword6\"], entry3.accessed_timestamp, entry3.internal_links, entry3.external_links, entry3.id)\n",
    "documentRepository.updateDocument(entry3)\n",
    "allDocuments = documentRepository.loadAllDocuments()\n",
    "allDocuments"
   ],
   "id": "8f9a15b6c7d14021",
   "outputs": [
    {
     "name": "stdout",
     "output_type": "stream",
     "text": [
      "SC: Updated document.\n"
     ]
    },
    {
     "data": {
      "text/plain": [
       "[DocumentEntry[id=94228268-7..., url=url1, title=Title 1, headings=['heading1'], page_text=page text ..., keywords=['keyword1', 'keyword2', ...], accessed_timestamp=2024-07-14 19:24:59.829798], internal_links=[]], external_links=['myfirstevencoolerexternallink1', 'myfirstevencoolerexternallink2']],\n",
       " DocumentEntry[id=e0f016e9-7..., url=url2, title=None, headings=['', None], page_text=, keywords=[None], accessed_timestamp=2024-07-13 19:24:59.829695], internal_links=[None]], external_links=[]],\n",
       " DocumentEntry[id=7455f951-2..., url=url3, title=Title 3, headings=['heading3'], page_text=page text ..., keywords=['keyword1', 'keyword6'], accessed_timestamp=2024-07-12 19:24:59.871836], internal_links=['internalLink']], external_links=[None, None]]]"
      ]
     },
     "execution_count": 8,
     "metadata": {},
     "output_type": "execute_result"
    }
   ],
   "execution_count": 8
  },
  {
   "metadata": {
    "ExecuteTime": {
     "end_time": "2024-07-14T17:24:59.894945Z",
     "start_time": "2024-07-14T17:24:59.891874Z"
    }
   },
   "cell_type": "code",
   "source": [
    "# If you want to push the current state of the database, uncomment the next line\n",
    "# documentRepository.replaceDump()"
   ],
   "id": "17e2bc080087cb0d",
   "outputs": [],
   "execution_count": 9
  },
  {
   "metadata": {},
   "cell_type": "markdown",
   "source": "Lets delete this elemente again",
   "id": "700a9f118a8abf7b"
  },
  {
   "metadata": {
    "ExecuteTime": {
     "end_time": "2024-07-14T17:24:59.907114Z",
     "start_time": "2024-07-14T17:24:59.899785Z"
    }
   },
   "cell_type": "code",
   "source": [
    "documentRepository.deleteDocument(entry3)\n",
    "allDocuments = documentRepository.loadAllDocuments()\n",
    "allDocuments"
   ],
   "id": "1c689fefffad7c9d",
   "outputs": [
    {
     "name": "stdout",
     "output_type": "stream",
     "text": [
      "SC: Deleted document.\n"
     ]
    },
    {
     "data": {
      "text/plain": [
       "[DocumentEntry[id=94228268-7..., url=url1, title=Title 1, headings=['heading1'], page_text=page text ..., keywords=['keyword1', 'keyword2', ...], accessed_timestamp=2024-07-14 19:24:59.829798], internal_links=[]], external_links=['myfirstevencoolerexternallink1', 'myfirstevencoolerexternallink2']],\n",
       " DocumentEntry[id=e0f016e9-7..., url=url2, title=None, headings=['', None], page_text=, keywords=[None], accessed_timestamp=2024-07-13 19:24:59.829695], internal_links=[None]], external_links=[]]]"
      ]
     },
     "execution_count": 10,
     "metadata": {},
     "output_type": "execute_result"
    }
   ],
   "execution_count": 10
  },
  {
   "metadata": {},
   "cell_type": "markdown",
   "source": "Let's test it when you're fetching an element that you guarantee that it's the required element actually.",
   "id": "7b06a881865f569c"
  },
  {
   "metadata": {
    "ExecuteTime": {
     "end_time": "2024-07-14T17:24:59.913687Z",
     "start_time": "2024-07-14T17:24:59.908885Z"
    }
   },
   "cell_type": "code",
   "source": [
    "entry4 = documentRepository.getDocumentOfUrl(entry1.url)\n",
    "entry4 == entry1"
   ],
   "id": "83ed9008df652bd8",
   "outputs": [
    {
     "data": {
      "text/plain": [
       "True"
      ]
     },
     "execution_count": 11,
     "metadata": {},
     "output_type": "execute_result"
    }
   ],
   "execution_count": 11
  },
  {
   "metadata": {},
   "cell_type": "markdown",
   "source": "Do we have 0 elements when we decide to clear the index?",
   "id": "8ac76eeb0e711a6b"
  },
  {
   "metadata": {
    "ExecuteTime": {
     "end_time": "2024-07-14T17:24:59.923460Z",
     "start_time": "2024-07-14T17:24:59.915322Z"
    }
   },
   "cell_type": "code",
   "source": [
    "documentRepository.deleteAllDocuments()\n",
    "allDocuments = documentRepository.loadAllDocuments()\n",
    "allDocuments"
   ],
   "id": "1aae1b7177ca8b4d",
   "outputs": [
    {
     "name": "stdout",
     "output_type": "stream",
     "text": [
      "SC: Deleted all documents.\n"
     ]
    },
    {
     "data": {
      "text/plain": [
       "[]"
      ]
     },
     "execution_count": 12,
     "metadata": {},
     "output_type": "execute_result"
    }
   ],
   "execution_count": 12
  },
  {
   "metadata": {},
   "cell_type": "markdown",
   "source": "When you get \"[]\", everything was right.",
   "id": "d21b53a1fd14b048"
  },
  {
   "metadata": {},
   "cell_type": "markdown",
   "source": "Finally, you should shut down the container and kill it.",
   "id": "236ed75db6d9ec0e"
  },
  {
   "metadata": {
    "ExecuteTime": {
     "end_time": "2024-07-14T17:25:00.402794Z",
     "start_time": "2024-07-14T17:24:59.925183Z"
    }
   },
   "cell_type": "code",
   "source": [
    "os.system(\"\"\"\n",
    "docker compose down;\n",
    "\"\"\")"
   ],
   "id": "4171dbc72d9e73b9",
   "outputs": [
    {
     "name": "stderr",
     "output_type": "stream",
     "text": [
      " Container project_mse-db-1  Stopping\n",
      " Container project_mse-db-1  Stopped\n",
      " Container project_mse-db-1  Removing\n",
      " Container project_mse-db-1  Removed\n",
      " Network project_mse_default  Removing\n",
      " Network project_mse_default  Removed\n"
     ]
    },
    {
     "data": {
      "text/plain": [
       "0"
      ]
     },
     "execution_count": 13,
     "metadata": {},
     "output_type": "execute_result"
    }
   ],
   "execution_count": 13
  },
  {
   "metadata": {
    "ExecuteTime": {
     "end_time": "2024-07-14T17:25:00.409007Z",
     "start_time": "2024-07-14T17:25:00.405774Z"
    }
   },
   "cell_type": "code",
   "source": "",
   "id": "d3900e6bed40807a",
   "outputs": [],
   "execution_count": 13
  }
 ],
 "metadata": {
  "kernelspec": {
   "display_name": "Python 3",
   "language": "python",
   "name": "python3"
  },
  "language_info": {
   "codemirror_mode": {
    "name": "ipython",
    "version": 2
   },
   "file_extension": ".py",
   "mimetype": "text/x-python",
   "name": "python",
   "nbconvert_exporter": "python",
   "pygments_lexer": "ipython2",
   "version": "2.7.6"
  }
 },
 "nbformat": 4,
 "nbformat_minor": 5
}
