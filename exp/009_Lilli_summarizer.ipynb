{
 "cells": [
  {
   "cell_type": "code",
   "id": "initial_id",
   "metadata": {
    "collapsed": true,
    "ExecuteTime": {
     "end_time": "2024-07-17T11:39:20.794920Z",
     "start_time": "2024-07-17T11:39:20.791351Z"
    }
   },
   "source": [
    "from summarizer.sbert import SBertSummarizer\n",
    "import sys\n",
    "\n",
    "\n",
    "#sys.path.append(r'C:\\\\Users\\\\lilli\\\\OneDrive\\\\Dokumente\\\\Tübingen\\\\ModernSearchEngines')\n",
    "\n",
    "try:\n",
    "    from db.DocumentRepository import DocumentRepository\n",
    "    print(\"Module imported successfully\")\n",
    "except ModuleNotFoundError as e:\n",
    "    print(f\"Error importing module: {e}\")"
   ],
   "outputs": [
    {
     "name": "stdout",
     "output_type": "stream",
     "text": [
      "Module imported successfully\n"
     ]
    }
   ],
   "execution_count": 4
  },
  {
   "metadata": {
    "ExecuteTime": {
     "end_time": "2024-07-17T11:38:17.759184Z",
     "start_time": "2024-07-17T11:38:17.690840Z"
    }
   },
   "cell_type": "code",
   "source": [
    "body = 'Text body of QueryResult.Documents.document.doc(str) that you want to summarize with BERT'\n",
    "body2 = 'Something else you want to summarize with BERT'\n",
    "model = SBertSummarizer('paraphrase-MiniLM-L6-v2')\n",
    "model(body)\n",
    "model(body2)"
   ],
   "id": "4766673c25f9285d",
   "outputs": [
    {
     "ename": "TypeError",
     "evalue": "'Summarizer' object is not callable",
     "output_type": "error",
     "traceback": [
      "\u001B[0;31m---------------------------------------------------------------------------\u001B[0m",
      "\u001B[0;31mTypeError\u001B[0m                                 Traceback (most recent call last)",
      "Cell \u001B[0;32mIn[3], line 4\u001B[0m\n\u001B[1;32m      2\u001B[0m body2 \u001B[38;5;241m=\u001B[39m \u001B[38;5;124m'\u001B[39m\u001B[38;5;124mSomething else you want to summarize with BERT\u001B[39m\u001B[38;5;124m'\u001B[39m\n\u001B[1;32m      3\u001B[0m model \u001B[38;5;241m=\u001B[39m Summarizer()\n\u001B[0;32m----> 4\u001B[0m \u001B[43mmodel\u001B[49m\u001B[43m(\u001B[49m\u001B[43mbody\u001B[49m\u001B[43m)\u001B[49m\n\u001B[1;32m      5\u001B[0m model(body2)\n",
      "\u001B[0;31mTypeError\u001B[0m: 'Summarizer' object is not callable"
     ]
    }
   ],
   "execution_count": 3
  },
  {
   "metadata": {
    "ExecuteTime": {
     "end_time": "2024-07-16T07:50:33.169778Z",
     "start_time": "2024-07-16T07:50:30.940972Z"
    }
   },
   "cell_type": "code",
   "source": [
    "body1 = '''We are working on it.'''\n",
    "body = '''\n",
    "The Chrysler Building, the famous art deco New York skyscraper, will be sold for a small fraction of its previous sales price.\n",
    "The deal, first reported by The Real Deal, was for $150 million, according to a source familiar with the deal.\n",
    "Mubadala, an Abu Dhabi investment fund, purchased 90% of the building for $800 million in 2008.\n",
    "Real estate firm Tishman Speyer had owned the other 10%.\n",
    "The buyer is RFR Holding, a New York real estate company.\n",
    "Officials with Tishman and RFR did not immediately respond to a request for comments.\n",
    "It's unclear when the deal will close.\n",
    "The building sold fairly quickly after being publicly placed on the market only two months ago.\n",
    "The sale was handled by CBRE Group.\n",
    "The incentive to sell the building at such a huge loss was due to the soaring rent the owners pay to Cooper Union, a New York college, for the land under the building.\n",
    "The rent is rising from $7.75 million last year to $32.5 million this year to $41 million in 2028.\n",
    "Meantime, rents in the building itself are not rising nearly that fast.\n",
    "While the building is an iconic landmark in the New York skyline, it is competing against newer office towers with large floor-to-ceiling windows and all the modern amenities.\n",
    "Still the building is among the best known in the city, even to people who have never been to New York.\n",
    "It is famous for its triangle-shaped, vaulted windows worked into the stylized crown, along with its distinctive eagle gargoyles near the top.\n",
    "It has been featured prominently in many films, including Men in Black 3, Spider-Man, Armageddon, Two Weeks Notice and Independence Day.\n",
    "The previous sale took place just before the 2008 financial meltdown led to a plunge in real estate prices.\n",
    "Still there have been a number of high profile skyscrapers purchased for top dollar in recent years, including the Waldorf Astoria hotel, which Chinese firm Anbang Insurance purchased in 2016 for nearly $2 billion, and the Willis Tower in Chicago, which was formerly known as Sears Tower, once the world's tallest.\n",
    "Blackstone Group (BX) bought it for $1.3 billion 2015.\n",
    "The Chrysler Building was the headquarters of the American automaker until 1953, but it was named for and owned by Chrysler chief Walter Chrysler, not the company itself.\n",
    "Walter Chrysler had set out to build the tallest building in the world, a competition at that time with another Manhattan skyscraper under construction at 40 Wall Street at the south end of Manhattan. He kept secret the plans for the spire that would grace the top of the building, building it inside the structure and out of view of the public until 40 Wall Street was complete.\n",
    "Once the competitor could rise no higher, the spire of the Chrysler building was raised into view, giving it the title.\n",
    "'''\n",
    "body3 = [body, body1, body2]\n",
    "\n",
    "result = model(body, min_length=60)\n",
    "full = ''.join(result)\n",
    "print(full)"
   ],
   "id": "4d56e4748d5181f5",
   "outputs": [
    {
     "name": "stdout",
     "output_type": "stream",
     "text": [
      "The Chrysler Building, the famous art deco New York skyscraper, will be sold for a small fraction of its previous sales price. The building sold fairly quickly after being publicly placed on the market only two months ago. The incentive to sell the building at such a huge loss was due to the soaring rent the owners pay to Cooper Union, a New York college, for the land under the building. Still the building is among the best known in the city, even to people who have never been to New York.\n"
     ]
    }
   ],
   "execution_count": 4
  },
  {
   "metadata": {
    "ExecuteTime": {
     "end_time": "2024-07-16T07:52:57.640939Z",
     "start_time": "2024-07-16T07:52:55.782428Z"
    }
   },
   "cell_type": "code",
   "source": [
    "documentRepository = DocumentRepository()\n",
    "all_docs = documentRepository.loadAllDocuments()"
   ],
   "id": "4a5843b482dd021a",
   "outputs": [
    {
     "name": "stdout",
     "output_type": "stream",
     "text": [
      "SC: Connected to the db. Now you can go and build the best search engine around!\n"
     ]
    }
   ],
   "execution_count": 6
  },
  {
   "metadata": {
    "ExecuteTime": {
     "end_time": "2024-07-16T08:07:49.652684Z",
     "start_time": "2024-07-16T08:07:39.462804Z"
    }
   },
   "cell_type": "code",
   "source": [
    "for doc in all_docs[:10]:\n",
    "    text = doc.page_text\n",
    "    summary = model(text, min_length=60, num_sentences=3, max_length=300)\n",
    "    print(f\"{doc.url}, \\n Summary: {summary}\")"
   ],
   "id": "2fec2fb22090752a",
   "outputs": [
    {
     "name": "stdout",
     "output_type": "stream",
     "text": [
      "https://kunsthalle-tuebingen.de/en/, \n",
      " Summary: Kunsthalle Tübingen Kunsthalle Tübingen Kunsthalle Tübingen Exhibitions Current Exhibition Außer Haus Upcoming Exhibitions Past Visit Calendar About us Team Shop Press German English Kunsthalle Today Kunsthalle is closed today. FROM THE BAROQUE TO THE PRESENT this selection of treasures from the Lower Austrian national collections will be shown for the first time in Germany. The conversion of the Kunsthalle Foundation Building into a modern art studio was designed by the renowned office Lederer Ragnarsdóttir Oei and implemented by the company Mey Generalbau GmbH. Supported by Wüstenrot Stiftung.\n",
      "https://www.neurochirurgie-tuebingen.de/en/, \n",
      " Summary: Ein Anleitung wie Sie Java Script in Ihrem Browser aktivieren finden Sie hier . On the following pages, we will inform you about patient care, research and education and want to ensure an uncomplicated contact with our department. We are looking forward to your visit, your Prof. Dr. med Marcos Tatagiba.\n",
      "https://uni-tuebingen.de/en/uni-a-z/, \n",
      " Summary: \n",
      "https://uni-tuebingen.de/en/contact/, \n",
      " Summary: Eberhard Karls Universität Tübingen Geschwister-Scholl-Platz 72074 Tübingen Phone +49 7071 29-0 Fax +49 7071 29-5990 E-Mail info spam prevention @uni-tuebingen.de Public transport Arriving by plane International guests are recommended to arrive via Stuttgart Airport (IATA code STR). The airport is about 30 kilometres from the city centre of Tübingen. All important university sites such as the Campus Tal, the university hospitals and the Campus Morgenstelle can be reached by bus within 5-15 minutes from the bus station in front of Tübingen main station.\n",
      "https://uni-tuebingen.de/en/excellence-strategy/, \n",
      " Summary: Together with nine other universities and a university consortium, the University of Tübingen receives additional funding for an initial period of seven years since November 2019. The University of Tübingen was successful in both funding lines of the German Excellence Strategy: With its concept Research – Relevance – Responsibility: Open to New Challenges and a Global Scope of Action , and with three new Clusters of Excellence. FURTHER INFORMATION Information on the Excellence Strategy Program and all currently funded Clusters of Excellence and Universities of Excellence Contact Division II – Research Excellence Strategy Rümelinstr.\n",
      "https://uni-tuebingen.de/en/study/prospective-students/, \n",
      " Summary: The University of Tübingen was selected as one of Germany’s universities of excellence under the German government’s Excellence Initiative. Some 28,000 students from Germany and around the world are enrolled here in our more than 200 study programs covering nearly every area of academic study (with the exception of engineering).\n",
      "https://uni-tuebingen.de/en/study/, \n",
      " Summary: This reflects the broad, interdisciplinary spectrum of research in Tübingen. Research-based learning from the first semester onward is one of our principles. But we care about more than just communicating knowledge; it is also important to us that our students learn universal professional skills to equip them for their whole future lives.\n",
      "https://uni-tuebingen.de/en/staff/, \n",
      " Summary: For tips for reduced consumption of electricity and heating in the office, go to the \"Simply saving energy\" website.\n",
      "https://uni-tuebingen.de/en/teaching-staff/, \n",
      " Summary: The challenge is to awaken not only interest, but also enthusiasm for the material. Center for Teaching and Learning E-Learning Portal Advice, training, and equipment for digital teaching Topics include the academic information platforms ILIAS and Moodle, the production and use of video, audio, and images as well as e-didactics. Teaching Prize Teaching academic writing The University Writing Center offers teaching staff advice on how to guide and support students through the processes of academic writing.\n",
      "https://uni-tuebingen.de/en/alumni/, \n",
      " Summary: What if, through collaborating with fellow alumni, you could discover the solutions that our present-day challenges necessitate? Would you like to exchange ideas and experiences, advance your professional development or start a regional alumni chapter*? Take part in lectures, online and face-to-face, and learn more about current research at your alma mater.\n"
     ]
    }
   ],
   "execution_count": 14
  },
  {
   "metadata": {},
   "cell_type": "code",
   "outputs": [],
   "execution_count": null,
   "source": "",
   "id": "b8ff511eb61df6bc"
  }
 ],
 "metadata": {
  "kernelspec": {
   "display_name": "Python 3",
   "language": "python",
   "name": "python3"
  },
  "language_info": {
   "codemirror_mode": {
    "name": "ipython",
    "version": 2
   },
   "file_extension": ".py",
   "mimetype": "text/x-python",
   "name": "python",
   "nbconvert_exporter": "python",
   "pygments_lexer": "ipython2",
   "version": "2.7.6"
  }
 },
 "nbformat": 4,
 "nbformat_minor": 5
}
