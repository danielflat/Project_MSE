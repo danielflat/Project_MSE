{
 "cells": [
  {
   "metadata": {
    "ExecuteTime": {
     "end_time": "2024-07-11T14:06:07.958311Z",
     "start_time": "2024-07-11T14:06:06.310617Z"
    }
   },
   "cell_type": "code",
   "source": [
    "# Imports\n",
    "import spacy\n",
    "import tiktoken\n",
    "import os\n",
    "import numpy as np\n",
    "from transformers import BertTokenizer\n",
    "from sklearn.feature_extraction.text import CountVectorizer\n",
    "\n",
    "from db.DocumentRepository import DocumentRepository"
   ],
   "id": "48197ab7438c4377",
   "outputs": [],
   "execution_count": 2
  },
  {
   "metadata": {
    "ExecuteTime": {
     "end_time": "2024-07-11T14:06:14.463636Z",
     "start_time": "2024-07-11T14:06:09.609555Z"
    }
   },
   "cell_type": "code",
   "source": [
    "os.system(\"\"\"\n",
    "    docker compose down;\n",
    "    docker compose up -d --build db;\n",
    "    \"\"\")"
   ],
   "id": "bf836a8f1e0ddca",
   "outputs": [
    {
     "name": "stderr",
     "output_type": "stream",
     "text": [
      " Container project_mse-db-1  Stopping\n",
      " Container project_mse-db-1  Stopped\n",
      " Container project_mse-db-1  Removing\n",
      " Container project_mse-db-1  Removed\n",
      " Network project_mse_default  Removing\n",
      " Network project_mse_default  Removed\n"
     ]
    },
    {
     "name": "stdout",
     "output_type": "stream",
     "text": [
      "#0 building with \"desktop-linux\" instance using docker driver\n",
      "\n",
      "#1 [db internal] load .dockerignore\n",
      "#1 transferring context: 2B done\n",
      "#1 DONE 0.0s\n",
      "\n",
      "#2 [db internal] load build definition from Dockerfile\n",
      "#2 transferring dockerfile: 122B done\n",
      "#2 DONE 0.0s\n",
      "\n",
      "#3 [db internal] load metadata for docker.io/library/postgres:latest\n",
      "#3 DONE 2.4s\n",
      "\n",
      "#4 [db internal] load build context\n",
      "#4 transferring context: 3.94MB 0.1s done\n",
      "#4 DONE 0.1s\n",
      "\n",
      "#5 [db 1/2] FROM docker.io/library/postgres:latest@sha256:0aafd2ae7e6c391f39fb6b7621632d79f54068faebc726caf469e87bd1d301c0\n",
      "#5 CACHED\n",
      "\n",
      "#6 [db 2/2] COPY dump.sql /docker-entrypoint-initdb.d/\n",
      "#6 DONE 0.0s\n",
      "\n",
      "#7 [db] exporting to image\n",
      "#7 exporting layers 0.0s done\n",
      "#7 writing image sha256:8943b923c8a5e46f37e26a55ded8554d7df5e78d8792c3425c8145dc4d7d1a7b done\n",
      "#7 naming to docker.io/library/project_mse-db done\n",
      "#7 DONE 0.0s\n"
     ]
    },
    {
     "name": "stderr",
     "output_type": "stream",
     "text": [
      " Network project_mse_default  Creating\n",
      " Network project_mse_default  Created\n",
      " Container project_mse-db-1  Creating\n",
      " Container project_mse-db-1  Created\n",
      " Container project_mse-db-1  Starting\n",
      " Container project_mse-db-1  Started\n"
     ]
    },
    {
     "data": {
      "text/plain": [
       "0"
      ]
     },
     "execution_count": 3,
     "metadata": {},
     "output_type": "execute_result"
    }
   ],
   "execution_count": 3
  },
  {
   "metadata": {
    "ExecuteTime": {
     "end_time": "2024-07-11T14:06:17.302099Z",
     "start_time": "2024-07-11T14:06:16.588266Z"
    }
   },
   "cell_type": "code",
   "source": [
    "class Ranker:\n",
    "\n",
    "    def __init__(self):\n",
    "        self.documentRepository = DocumentRepository()\n",
    "        self.tokenizer = BertTokenizer.from_pretrained('bert-base-uncased')\n",
    "\n",
    "    def rank_query(self, query):\n",
    "        tokenized_query = self.tokenizer.encode(query)\n",
    "        documents_vectors = self.documentRepository.getEncodedTextOfAllDocuments()\n",
    "        bm25_scores = self.rank_BM25(tokenized_query, documents_vectors)\n",
    "        return bm25_scores\n",
    "\n",
    "    def _compute_tf(self, token, doc_vec):\n",
    "        return np.sum(doc_vec == token)\n",
    "\n",
    "    def _compute_idf(self, documents: list[np.array]):\n",
    "        N = len(documents)\n",
    "        idf = {}\n",
    "        for document in documents:\n",
    "            for word in document:\n",
    "                if word in idf:\n",
    "                    idf[word] += 1\n",
    "                else:\n",
    "                    idf[word] = 1\n",
    "        for word, count in idf.items():\n",
    "            idf[word] = np.log(((N + 1) / (count + 0.5)) + 1)\n",
    "        return idf\n",
    "\n",
    "    def rank_BM25(self, tokenized_query: list[int], documents_vectors: dict[str, np.array], k=1.5, b=0.75):\n",
    "        \"\"\"\n",
    "        Calculate the Okapi Best Model 25 scores for a set of documents given a query.\n",
    "        The BM25 score for a document D given a query Q is calculated as:\n",
    "        BM25(D, Q) = Σ [ IDF(q_i) * (f(q_i, D) * (k + 1)) / (f(q_i, D) + k * (1 - b + b * (|D| / avgdl))) ]\n",
    "        \n",
    "        Note: The BM25 score of a document is <= 0 but can be > 1.\n",
    "        \n",
    "        Where:\n",
    "            - q_i: the i-th term in the query Q.\n",
    "            - f(q_i, D): term frequency of q_i in document D.\n",
    "            - |D|: length of document D.\n",
    "            - avgdl: average document length in the corpus.\n",
    "            - k: controls the term frequency saturation. Typical values range from 1.2 to 2.0.\n",
    "            - b: controls the length normalization. Typical values range from 0.75 to 1.0.\n",
    "            - IDF(q_i): inverse document frequency of the term q_i.\n",
    "    \n",
    "        Parameters:\n",
    "            tokenized_query (list of int): list of tokens.\n",
    "            documents_vectors (dict of (str, np.array)): contains for each url the encoded np.array\n",
    "            k (float, optional): term frequency saturation parameter. Default is 1.5.\n",
    "            b (float, optional): length normalization parameter. Default is 0.75.\n",
    "    \n",
    "        Returns:\n",
    "            Dict[str, float]: a dictionary where keys are the urls and values are the corresponding BM25 scores.\n",
    "        \"\"\"\n",
    "        # Compute the number of documents\n",
    "        n = len(documents_vectors)\n",
    "\n",
    "        # TODO: Can be precomputed ------\n",
    "        # Compute average document length\n",
    "        vectors_list = list(documents_vectors.values())\n",
    "        avg_doc_len = np.mean([len(i) for i in vectors_list])\n",
    "\n",
    "        # Compute IDF for all terms in the corpus\n",
    "        idf = self._compute_idf(vectors_list)\n",
    "        # --------\n",
    "\n",
    "        scores = {}\n",
    "\n",
    "        # Compute term frequency IF(q, d)\n",
    "        for url, doc_vec in documents_vectors.items():\n",
    "            score = 0\n",
    "            doc_length = len(doc_vec)\n",
    "\n",
    "            for token in tokenized_query:\n",
    "                tf = self._compute_tf(token, doc_vec)\n",
    "                numerator = (idf.get(token, np.log(\n",
    "                    n + 1))  # assuming for a new word to have a high IDF-value because it's \"rare\".\n",
    "                             * tf * (k - 1))  # frequency counting penalty\n",
    "                denominator = tf + k * (1 - b + b * (doc_length / avg_doc_len))  # length norm\n",
    "                score += numerator / denominator\n",
    "\n",
    "            scores[url] = score\n",
    "\n",
    "        sorted_scores = dict(sorted(scores.items(), key=lambda x: x[1], reverse=True))\n",
    "        return sorted_scores\n",
    "\n",
    "\n",
    "ranker = Ranker()"
   ],
   "id": "833d2bbfdc547349",
   "outputs": [
    {
     "name": "stdout",
     "output_type": "stream",
     "text": [
      "SC: Connected to the db. Now you can go and build the best search engine around!\n"
     ]
    }
   ],
   "execution_count": 4
  },
  {
   "metadata": {},
   "cell_type": "markdown",
   "source": [
    "### Test 1\n",
    "\n",
    "easy example using a small corpus"
   ],
   "id": "5c3378542a0fcf9b"
  },
  {
   "metadata": {
    "ExecuteTime": {
     "end_time": "2024-07-11T14:06:21.987175Z",
     "start_time": "2024-07-11T14:06:21.983158Z"
    }
   },
   "cell_type": "code",
   "source": [
    "# Adjust them for testing \n",
    "query = \"quick fox\"\n",
    "corpus = {0: \"the quick brown fox\",\n",
    "          1: \"jumps over the lazy dog\",\n",
    "          2: \"lorem ipsum dolor sit amet\",\n",
    "          3: \"consectetur adipiscing elit\",\n",
    "          4: \"the quick brown wolf\",\n",
    "          }\n",
    "\n",
    "corpus_vectorizes = {}\n",
    "for i, sentence in corpus.items():\n",
    "    corpus_vectorizes[i] = np.array(ranker.tokenizer.encode(sentence, add_special_tokens=False))\n",
    "\n",
    "tokenized_query = np.array(ranker.tokenizer.encode(query, add_special_tokens=False))\n",
    "\n",
    "# Compute BM25 scores\n",
    "scores = ranker.rank_BM25(tokenized_query, corpus_vectorizes)\n",
    "\n",
    "print(f\"Query: {query}\")\n",
    "\n",
    "# Print scores\n",
    "for doc, score in scores.items():\n",
    "    print(f\"Document: {doc} => BM25 Score: {score}\")"
   ],
   "id": "31e6d9ee98e44bf6",
   "outputs": [
    {
     "name": "stdout",
     "output_type": "stream",
     "text": [
      "Query: quick fox\n",
      "Document: 0 => BM25 Score: 0.6816753910511196\n",
      "Document: 4 => BM25 Score: 0.29444220911208796\n",
      "Document: 1 => BM25 Score: 0.0\n",
      "Document: 2 => BM25 Score: 0.0\n",
      "Document: 3 => BM25 Score: 0.0\n"
     ]
    }
   ],
   "execution_count": 5
  },
  {
   "metadata": {},
   "cell_type": "markdown",
   "source": [
    "### Test 2\n",
    "\n",
    "using the whole db corpus"
   ],
   "id": "bf0e7374297b22d4"
  },
  {
   "metadata": {
    "ExecuteTime": {
     "end_time": "2024-07-11T14:06:25.954806Z",
     "start_time": "2024-07-11T14:06:24.492276Z"
    }
   },
   "cell_type": "code",
   "source": [
    "query = \"Tübing\"  # Change this for testing\n",
    "corpus = ranker.documentRepository.getEncodedTextOfAllDocuments()\n",
    "\n",
    "# Compute BM25 scores\n",
    "scores = ranker.rank_BM25(np.array(ranker.tokenizer.encode(query, add_special_tokens=False)), corpus)\n",
    "\n",
    "print(f\"Query: {query}\")\n",
    "\n",
    "# Print scores\n",
    "for doc, score in scores.items():\n",
    "    print(f\"Document: {doc} => BM25 Score: {score}\")"
   ],
   "id": "d3228bd3067a9cdd",
   "outputs": [
    {
     "name": "stderr",
     "output_type": "stream",
     "text": [
      "Token indices sequence length is longer than the specified maximum sequence length for this model (3149 > 512). Running this sequence through the model will result in indexing errors\n"
     ]
    },
    {
     "name": "stdout",
     "output_type": "stream",
     "text": [
      "Query: Tübing\n",
      "Document: https://uni-tuebingen.de/en/university/life-on-campus/merchandising/ => BM25 Score: 0.2250823315035294\n",
      "Document: https://uni-tuebingen.de/en/university/life-on-campus/culture-the-arts-and-leisure-time/ => BM25 Score: 0.20094126476925167\n",
      "Document: https://uni-tuebingen.de/en/university/careers/professorships/ => BM25 Score: 0.1959845026184474\n",
      "Document: https://uni-tuebingen.de/en/university/profile/history-of-the-university/ => BM25 Score: 0.1945695551206066\n",
      "Document: https://uni-tuebingen.de/en/university/life-on-campus/events/ => BM25 Score: 0.192112108069501\n",
      "Document: https://uni-tuebingen.de/en/faculties/ => BM25 Score: 0.19174147030646868\n",
      "Document: https://uni-tuebingen.de/en/university/life-on-campus/ => BM25 Score: 0.1910473845183282\n",
      "Document: https://uni-tuebingen.de/en/university/public-engagement/neuroscience-student-lab/ => BM25 Score: 0.18993626682650644\n",
      "Document: https://uni-tuebingen.de/en/university/organisation-and-management/ => BM25 Score: 0.18968103790602786\n",
      "Document: https://uni-tuebingen.de/en/university/news-and-publications/ => BM25 Score: 0.18686896800679426\n",
      "Document: https://uni-tuebingen.de/en/university/profile/ => BM25 Score: 0.18612906384384026\n",
      "Document: https://uni-tuebingen.de/en/university/careers/career-development/ => BM25 Score: 0.18482056640566094\n",
      "Document: https://uni-tuebingen.de/en/university/careers/excellent-research-conditions/ => BM25 Score: 0.18369156607254955\n",
      "Document: https://uni-tuebingen.de/en/university/careers/values/ => BM25 Score: 0.1810356182181673\n",
      "Document: https://uni-tuebingen.de/en/university/news-and-publications/podcasts/ => BM25 Score: 0.17718932586691047\n",
      "Document: https://uni-tuebingen.de/en/contact/ => BM25 Score: 0.1768022020481693\n",
      "Document: https://uni-tuebingen.de/en/facilities/administration/iv-student-affairs/student-administration/student-administration/ => BM25 Score: 0.17611658121982138\n",
      "Document: https://uni-tuebingen.de/en/universitaet/karriere/berufsausbildung-an-der-universitaet-tuebingen/ => BM25 Score: 0.17152065470159664\n",
      "Document: https://uni-tuebingen.de/en/university/news-and-publications/publications/ => BM25 Score: 0.1679762126062043\n",
      "Document: https://uni-tuebingen.de/en/university/profile/awards-and-distinctions/ => BM25 Score: 0.16725822504634985\n",
      "Document: https://uni-tuebingen.de/en/university/public-engagement/ => BM25 Score: 0.1669137334091717\n",
      "Document: https://uni-tuebingen.de/en/international/study-in-tuebingen/advice-and-counseling-for-international-students/ => BM25 Score: 0.1663457328235047\n",
      "Document: https://uni-tuebingen.de/en/university/news-and-publications/press-releases/ => BM25 Score: 0.16548023821924662\n",
      "Document: https://uni-tuebingen.de/en/university/profile/values-and-visions/ => BM25 Score: 0.1652354773916932\n",
      "Document: https://uni-tuebingen.de/en/study/ => BM25 Score: 0.16513185981884537\n",
      "Document: https://uni-tuebingen.de/en/university/news-and-publications/social-media/ => BM25 Score: 0.16511972580619294\n",
      "Document: https://uni-tuebingen.de/en/universitaet/profil/freunde-und-foerderer/ => BM25 Score: 0.16497161262842397\n",
      "Document: https://uni-tuebingen.de/en/university/ => BM25 Score: 0.16495145914073356\n",
      "Document: https://uni-tuebingen.de/en/study/prospective-students/ => BM25 Score: 0.16401234454448538\n",
      "Document: https://uni-tuebingen.de/en/business/ => BM25 Score: 0.16266565658959858\n",
      "Document: https://uni-tuebingen.de/en/universitaet/organisation-und-leitung/kommissionen/ => BM25 Score: 0.16261441571796417\n",
      "Document: https://uni-tuebingen.de/en/university/news-and-publications/videos/ => BM25 Score: 0.1618350519268492\n",
      "Document: https://uni-tuebingen.de/en/university/profile/facts-and-figures/ => BM25 Score: 0.16126782010472893\n",
      "Document: https://uni-tuebingen.de/en/university/news-and-publications/attempto-online/ => BM25 Score: 0.1608629422243151\n",
      "Document: https://uni-tuebingen.de/en/university/public-engagement/the-childrens-university-of-tuebingen/ => BM25 Score: 0.16075090091999403\n",
      "Document: https://uni-tuebingen.de/en/university/organisation-and-management/university-management/ => BM25 Score: 0.16041971244924413\n",
      "Document: https://uni-tuebingen.de/en/university/careers/tuebingen-and-the-region/ => BM25 Score: 0.16035876132924254\n",
      "Document: https://uni-tuebingen.de/en/lifelong-learning/ => BM25 Score: 0.16023198007432765\n",
      "Document: https://uni-tuebingen.de/en/university/news-and-publications/university-of-tuebingen-magazine-attempto/ => BM25 Score: 0.15994352958089483\n",
      "Document: https://uni-tuebingen.de/en/university/careers/it-library-technology-maintenance-administration/ => BM25 Score: 0.15978721137028418\n",
      "Document: https://uni-tuebingen.de/en/university/how-to-get-here/ => BM25 Score: 0.15942601646196983\n",
      "Document: https://uni-tuebingen.de/en/university/careers/family-and-career/ => BM25 Score: 0.1587631234912707\n",
      "Document: https://uni-tuebingen.de/en/teaching-staff/ => BM25 Score: 0.15707397370632953\n",
      "Document: https://uni-tuebingen.de/en/staff/ => BM25 Score: 0.15693270695428968\n",
      "Document: https://uni-tuebingen.de/en/university/careers/ => BM25 Score: 0.15661204388431543\n",
      "Document: https://uni-tuebingen.de/en/university/careers/publish-job-advertisements/ => BM25 Score: 0.15658217455842594\n",
      "Document: https://uni-tuebingen.de/en/university/careers/benefits/ => BM25 Score: 0.15573488404371932\n",
      "Document: https://uni-tuebingen.de/en/university/news-and-publications/online-press-review/ => BM25 Score: 0.1557242700735007\n",
      "Document: https://uni-tuebingen.de/en/university/careers/job-vacancies/ => BM25 Score: 0.15526237851724187\n",
      "Document: https://uni-tuebingen.de/en/universitaet/organisation-und-leitung/universitaetsrat/ => BM25 Score: 0.15371188837214445\n",
      "Document: https://www.my-stuwe.de/en/ => BM25 Score: 0.1514388212573643\n",
      "Document: https://uni-tuebingen.de/en/university/public-engagement/studium-generale/ => BM25 Score: 0.1513754427942858\n",
      "Document: https://uni-tuebingen.de/en/university/careers/international-researchers/ => BM25 Score: 0.1507969086796979\n",
      "Document: https://uni-tuebingen.de/en/university/news-and-publications/media/ => BM25 Score: 0.1504742756444055\n",
      "Document: https://uni-tuebingen.de/en/universitaet/organisation-und-leitung/senat/ => BM25 Score: 0.14980951479807098\n",
      "Document: https://uni-tuebingen.de/en/alumni/ => BM25 Score: 0.14954740863605642\n",
      "Document: https://uni-tuebingen.de/en/university/careers/postdocs-assistant-professors-junior-research-group-leaders/ => BM25 Score: 0.14950384125285512\n",
      "Document: https://uni-tuebingen.de/en/ => BM25 Score: 0.14162482065824675\n",
      "Document: https://uni-tuebingen.de/en/uni-a-z/ => BM25 Score: 0.1386435316533116\n",
      "Document: https://uni-tuebingen.de/en/study/finding-a-course/degree-programs-available/ => BM25 Score: 0.13846663352399569\n",
      "Document: https://uni-tuebingen.de/en/faculties/faculty-of-humanities/research/ => BM25 Score: 0.13108175396695762\n",
      "Document: https://uni-tuebingen.de/en/universitaet/aktuelles-und-publikationen/personalia/ => BM25 Score: 0.11781233145536255\n",
      "Document: https://uni-tuebingen.de/en/universitaet/aktuelles-und-publikationen/newsletter-uni-tuebingen-aktuell/2024/2/index/ => BM25 Score: 0.11611102327797597\n",
      "Document: https://tuebingenresearchcampus.com/ => BM25 Score: 0.018188493450726022\n",
      "Document: https://uni-tuebingen.de/en/excellence-strategy/ => BM25 Score: 0.0178120870028822\n",
      "Document: https://www.bccn-tuebingen.de/ => BM25 Score: 0.017593856408385636\n",
      "Document: https://uni-tuebingen.de/en/faculties/faculty-of-economics-and-social-sciences/international/ => BM25 Score: 0.017565815759089623\n",
      "Document: https://uni-tuebingen.de/en/faculties/faculty-of-humanities/international/ => BM25 Score: 0.017488921901557687\n",
      "Document: https://uni-tuebingen.de/en/faculties/faculty-of-economics-and-social-sciences/studies/ => BM25 Score: 0.017469404481553985\n",
      "Document: https://uni-tuebingen.de/en/faculties/faculty-of-humanities/study/ => BM25 Score: 0.017465231044546975\n",
      "Document: https://uni-tuebingen.de/en/faculties/faculty-of-humanities/faculty/ => BM25 Score: 0.01745606085731226\n",
      "Document: https://uni-tuebingen.de/en/fakultaeten/philosophische-fakultaet/promotionhabilitation/ => BM25 Score: 0.017447865149176348\n",
      "Document: https://uni-tuebingen.de/en/faculties/law/faculty/ => BM25 Score: 0.017356560135578434\n",
      "Document: https://uni-tuebingen.de/en/fakultaeten/juristische-fakultaet/studium/ => BM25 Score: 0.017307296302709562\n",
      "Document: https://uni-tuebingen.de/en/fakultaeten/juristische-fakultaet/einrichtungen/ => BM25 Score: 0.01729381297457523\n",
      "Document: https://uni-tuebingen.de/en/faculties/faculty-of-catholic-theology/research/ => BM25 Score: 0.017289456789814497\n",
      "Document: https://uni-tuebingen.de/en/faculties/faculty-of-humanities/departments/ => BM25 Score: 0.01726371199560809\n",
      "Document: https://uni-tuebingen.de/en/faculties/faculty-of-science/faculty/ => BM25 Score: 0.01726042989771443\n",
      "Document: https://uni-tuebingen.de/en/faculties/faculty-of-economics-and-social-sciences/subjects/ => BM25 Score: 0.017238734336631846\n",
      "Document: https://uni-tuebingen.de/en/faculties/faculty-of-science/departments/ => BM25 Score: 0.01722435516293168\n",
      "Document: https://uni-tuebingen.de/en/fakultaeten/juristische-fakultaet/lehrstuehle-und-personen/ => BM25 Score: 0.017175009983137812\n",
      "Document: https://uni-tuebingen.de/en/faculties/faculty-of-economics-and-social-sciences/research/ => BM25 Score: 0.017167077549578115\n",
      "Document: https://uni-tuebingen.de/en/fakultaeten/evangelisch-theologische-fakultaet/fakultaet/aktuelles/ => BM25 Score: 0.017118609573770444\n",
      "Document: https://uni-tuebingen.de/en/faculties/protestant-theology/courses-and-students/ => BM25 Score: 0.017095308699130188\n",
      "Document: https://uni-tuebingen.de/en/facilities/university-library/ => BM25 Score: 0.017045327823443444\n",
      "Document: https://uni-tuebingen.de/en/fakultaeten/juristische-fakultaet/forschung/ => BM25 Score: 0.017038023243640378\n",
      "Document: https://uni-tuebingen.de/en/faculties/faculty-of-catholic-theology/faculty-student-body/ => BM25 Score: 0.017012488334193613\n",
      "Document: https://www.tuebingen.mpg.de/en => BM25 Score: 0.016966328824172552\n",
      "Document: https://uni-tuebingen.de/en/faculties/faculty-of-catholic-theology/equal-opportunities/ => BM25 Score: 0.016918973183814537\n",
      "Document: https://www.tuebingen.de/en/ => BM25 Score: 0.016870268672375146\n",
      "Document: https://uni-tuebingen.de/en/faculties/faculty-of-catholic-theology/studying/ => BM25 Score: 0.016832779581266354\n",
      "Document: https://uni-tuebingen.de/en/faculties/faculty-of-catholic-theology/faculty/ => BM25 Score: 0.016760161804032003\n",
      "Document: https://uni-tuebingen.de/en/faculties/faculty-of-catholic-theology/departments/ => BM25 Score: 0.01674955308396758\n",
      "Document: https://uni-tuebingen.de/en/faculties/faculty-of-economics-and-social-sciences/offices-resources/ => BM25 Score: 0.01670088755459087\n",
      "Document: https://uni-tuebingen.de/en/faculties/protestant-theology/research/ => BM25 Score: 0.016618819211338832\n",
      "Document: https://uni-tuebingen.de/en/faculties/protestant-theology/chairs-and-institutes/ => BM25 Score: 0.01649646034362598\n",
      "Document: https://kunsthalle-tuebingen.de/en/ => BM25 Score: 0.016210405582559435\n",
      "Document: https://uni-tuebingen.de/en/fakultaeten/evangelisch-theologische-fakultaet/personen/personenverzeichnis-register-of-persons/ => BM25 Score: 0.01587210524559397\n",
      "Document: https://www.hih-tuebingen.de/en/ => BM25 Score: 0.010644191734068713\n",
      "Document: https://webmail.uni-tuebingen.de/ => BM25 Score: 0.0\n"
     ]
    }
   ],
   "execution_count": 6
  },
  {
   "metadata": {},
   "cell_type": "markdown",
   "source": [
    "### Test 3\n",
    "\n",
    "This experiment is using the library \"rank_mb25\" to compute BM25."
   ],
   "id": "8d374db1353be786"
  },
  {
   "metadata": {},
   "cell_type": "code",
   "source": [
    "from rank_bm25 import BM25Okapi\n",
    "import tiktoken\n",
    "\n",
    "# # Example documents and query\n",
    "# documents = [\n",
    "#     \"The quick brown fox jumps over the lazy dog\",\n",
    "#     \"Never jump over the lazy dog quickly\",\n",
    "#     \"A fast fox and a lazy dog in a park\",\n",
    "# ]\n",
    "documents = [\"the quick brown fox\",\n",
    "             \"jumps over the lazy dog\",\n",
    "             \"lorem ipsum dolor sit amet\",\n",
    "             \"consectetur adipiscing elit\",\n",
    "             \"the quick brown wolf\"]\n",
    "query = \"quick fox\"\n",
    "\n",
    "# Tokenize documents and query\n",
    "tokenized_docs = [ranker.tokenizer.encode(doc) for doc in documents]\n",
    "tokenized_query = ranker.tokenizer.encode(query)\n",
    "\n",
    "# BM25\n",
    "bm25 = BM25Okapi(tokenized_docs)\n",
    "bm25_scores = bm25.get_scores(tokenized_query)\n",
    "bm25_scores"
   ],
   "id": "2faf83b90aab0e0b",
   "execution_count": null,
   "outputs": []
  },
  {
   "metadata": {},
   "cell_type": "code",
   "source": [
    "os.system(\"\"\"\n",
    "    docker compose down;\n",
    "    \"\"\")"
   ],
   "id": "9429fb15a90764ae",
   "execution_count": null,
   "outputs": []
  }
 ],
 "metadata": {
  "kernelspec": {
   "display_name": "Python 3",
   "language": "python",
   "name": "python3"
  },
  "language_info": {
   "codemirror_mode": {
    "name": "ipython",
    "version": 2
   },
   "file_extension": ".py",
   "mimetype": "text/x-python",
   "name": "python",
   "nbconvert_exporter": "python",
   "pygments_lexer": "ipython2",
   "version": "2.7.6"
  }
 },
 "nbformat": 4,
 "nbformat_minor": 5
}
