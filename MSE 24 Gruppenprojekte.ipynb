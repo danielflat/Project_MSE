version https://git-lfs.github.com/spec/v1
oid sha256:21f462dee8d0dbad20b84b82a885c74f2fedef75377f85267bc7879b2227b9b2
size 39847
