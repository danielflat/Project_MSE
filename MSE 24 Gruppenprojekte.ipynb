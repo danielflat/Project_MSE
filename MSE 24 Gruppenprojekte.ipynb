{
 "cells": [
  {
   "attachments": {},
   "cell_type": "markdown",
   "metadata": {},
   "source": [
    "# INFO 4271 - Group Project\n",
    "\n",
    "Issued: June 11, 2024\n",
    "\n",
    "Due: July 22, 2024\n",
    "\n",
    "Please submit a link to your code base (ideally with a branch that does not change anymore after the submission deadline) and your 4-page report via email to carsten.eickhoff@uni-tuebingen.de by the due date. One submission per team.\n",
    "\n",
    "---"
   ]
  },
  {
   "attachments": {},
   "cell_type": "markdown",
   "metadata": {},
   "source": [
    "# 1. Web Crawling & Indexing\n",
    "Crawl the web to discover **English content related to Tübingen**. The crawled content should be stored locally. If interrupted, your crawler should be able to re-start and pick up the crawling process at any time."
   ]
  },
  {
   "cell_type": "code",
   "execution_count": null,
   "metadata": {},
   "source": [
    "#Add a document to the index. You need (at least) two parameters:\n",
    "\t#doc: The document to be indexed.\n",
    "\t#index: The location of the local index storing the discovered documents.\n",
    "def index(doc, index):\n",
    "    #TODO: Implement me\n",
    "\tpass\n",
    "\n",
    "#Crawl the web. You need (at least) two parameters:\n",
    "\t#frontier: The frontier of known URLs to crawl. You will initially populate this with your seed set of URLs and later maintain all discovered (but not yet crawled) URLs here.\n",
    "\t#index: The location of the local index storing the discovered documents. \n",
    "def crawl(frontier, index):\n",
    "    #TODO: Implement me\n",
    "\tpass"
   ],
   "outputs": []
  },
  {
   "attachments": {},
   "cell_type": "markdown",
   "metadata": {},
   "source": [
    "# 2. Query Processing \n",
    "Process a textual query and return the 100 most relevant documents from your index. Please incorporate **at least one retrieval model innovation** that goes beyond BM25 or TF-IDF. Please allow for queries to be entered either individually in an interactive user interface (see also #3 below), or via a batch file containing multiple queries at once. The batch file will be formatted to have one query per line, listing the query number, and query text as tab-separated entries. An example of the batch file for the first two queries looks like this:\n",
    "\n",
    "```\n",
    "1   tübingen attractions\n",
    "2   food and drinks\n",
    "```"
   ]
  },
  {
   "cell_type": "code",
   "execution_count": null,
   "metadata": {},
   "source": [
    "#Retrieve documents relevnt to a query. You need (at least) two parameters:\n",
    "\t#query: The user's search query\n",
    "\t#index: The location of the local index storing the discovered documents.\n",
    "def retrieve(query, index):\n",
    "    #TODO: Implement me\n",
    "\tpass"
   ],
   "outputs": []
  },
  {
   "attachments": {},
   "cell_type": "markdown",
   "metadata": {},
   "source": [
    "# 3. Search Result Presentation\n",
    "Once you have a result set, we want to return it to the searcher in two ways: a) in an interactive user interface. For this user interface, please think of **at least one innovation** that goes beyond the traditional 10-blue-links interface that most commercial search engines employ. b) as a text file used for batch performance evaluation. The text file should be formatted to produce one ranked result per line, listing the query number, rank position, document URL and relevance score as tab-separated entries. An example of the first three lines of such a text file looks like this:\n",
    "\n",
    "```\n",
    "1   1   https://www.tuebingen.de/en/3521.html   0.725\n",
    "1   2   https://www.komoot.com/guide/355570/castles-in-tuebingen-district   0.671\n",
    "1   3   https://www.unimuseum.uni-tuebingen.de/en/museum-at-hohentuebingen-castle   0.529\n",
    "...\n",
    "1   100 https://www.tuebingen.de/en/3536.html   0.178\n",
    "2   1   https://www.tuebingen.de/en/3773.html   0.956\n",
    "2   2   https://www.tuebingen.de/en/4456.html   0.797\n",
    "...\n",
    "```"
   ]
  },
  {
   "cell_type": "code",
   "execution_count": 1,
   "metadata": {},
   "source": [
    "#TODO: Implement an interactive user interface for part a of this exercise.\n",
    "\n",
    "#Produce a text file with 100 results per query in the format specified above.\n",
    "def batch(results):\n",
    "    #TODO: Implement me.    \n",
    "    pass"
   ],
   "outputs": []
  },
  {
   "attachments": {},
   "cell_type": "markdown",
   "metadata": {},
   "source": [
    "# 4. Performance Evaluation \n",
    "We will evaluate the performance of our search systems on the basis of five queries. Two of them are avilable to you now for engineering purposes:\n",
    "- `tübingen attractions`\n",
    "- `food and drinks`\n",
    "\n",
    "The remaining three queries will be given to you during our final session on July 23rd. Please be prepared to run your systems and produce a single result file for all five queries live in class. That means you should aim for processing times of no more than ~1 minute per query. We will ask you to send carsten.eickhoff@uni-tuebingen.de that file."
   ]
  },
  {
   "attachments": {},
   "cell_type": "markdown",
   "metadata": {},
   "source": [
    "# Grading\n",
    "Your final projects will be graded along the following criteria:\n",
    "- 25% Code correctness and quality (to be delivered on this sheet)\n",
    "- 25% Report (4 pages, PDF, explanation and justification of your design choices)\n",
    "- 25% System performance (based on how well your system performs on the 5 queries relative to the other teams in terms of nDCG)\n",
    "- 15% Creativity and innovativeness of your approach (in particular with respect to your search system #2 and user interface #3 innovations)\n",
    "- 10% Presentation quality and clarity"
   ]
  },
  {
   "attachments": {},
   "cell_type": "markdown",
   "metadata": {},
   "source": [
    "# Permissible libraries\n",
    "You can use any general-puprose ML and NLP libraries such as scipy, numpy, scikit-learn, spacy, nltk, but please stay away from dedicated web crawling or search engine toolkits such as scrapy, whoosh, lucene, terrier, galago and the likes. Pretrained models are fine to use as part of your system, as long as they have not been built/trained for retrieval. \n"
   ]
  },
  {
   "metadata": {
    "ExecuteTime": {
     "end_time": "2024-06-27T14:57:16.098880Z",
     "start_time": "2024-06-27T14:57:08.978263Z"
    }
   },
   "cell_type": "code",
   "source": "!pip install pandas datasets",
   "outputs": [
    {
     "name": "stdout",
     "output_type": "stream",
     "text": [
      "Requirement already satisfied: pandas in /Users/lenardrommel/miniconda3/envs/Project_MSE/lib/python3.11/site-packages (2.2.2)\r\n",
      "Collecting datasets\r\n",
      "  Using cached datasets-2.20.0-py3-none-any.whl.metadata (19 kB)\r\n",
      "Requirement already satisfied: numpy>=1.23.2 in /Users/lenardrommel/miniconda3/envs/Project_MSE/lib/python3.11/site-packages (from pandas) (1.26.4)\r\n",
      "Requirement already satisfied: python-dateutil>=2.8.2 in /Users/lenardrommel/miniconda3/envs/Project_MSE/lib/python3.11/site-packages (from pandas) (2.9.0)\r\n",
      "Requirement already satisfied: pytz>=2020.1 in /Users/lenardrommel/miniconda3/envs/Project_MSE/lib/python3.11/site-packages (from pandas) (2024.1)\r\n",
      "Requirement already satisfied: tzdata>=2022.7 in /Users/lenardrommel/miniconda3/envs/Project_MSE/lib/python3.11/site-packages (from pandas) (2024.1)\r\n",
      "Requirement already satisfied: filelock in /Users/lenardrommel/miniconda3/envs/Project_MSE/lib/python3.11/site-packages (from datasets) (3.15.1)\r\n",
      "Collecting pyarrow>=15.0.0 (from datasets)\r\n",
      "  Using cached pyarrow-16.1.0-cp311-cp311-macosx_11_0_arm64.whl.metadata (3.0 kB)\r\n",
      "Collecting pyarrow-hotfix (from datasets)\r\n",
      "  Using cached pyarrow_hotfix-0.6-py3-none-any.whl.metadata (3.6 kB)\r\n",
      "Collecting dill<0.3.9,>=0.3.0 (from datasets)\r\n",
      "  Using cached dill-0.3.8-py3-none-any.whl.metadata (10 kB)\r\n",
      "Requirement already satisfied: requests>=2.32.2 in /Users/lenardrommel/miniconda3/envs/Project_MSE/lib/python3.11/site-packages (from datasets) (2.32.3)\r\n",
      "Requirement already satisfied: tqdm>=4.66.3 in /Users/lenardrommel/miniconda3/envs/Project_MSE/lib/python3.11/site-packages (from datasets) (4.66.4)\r\n",
      "Collecting xxhash (from datasets)\r\n",
      "  Using cached xxhash-3.4.1-cp311-cp311-macosx_11_0_arm64.whl.metadata (12 kB)\r\n",
      "Collecting multiprocess (from datasets)\r\n",
      "  Using cached multiprocess-0.70.16-py311-none-any.whl.metadata (7.2 kB)\r\n",
      "Collecting fsspec<=2024.5.0,>=2023.1.0 (from fsspec[http]<=2024.5.0,>=2023.1.0->datasets)\r\n",
      "  Using cached fsspec-2024.5.0-py3-none-any.whl.metadata (11 kB)\r\n",
      "Collecting aiohttp (from datasets)\r\n",
      "  Using cached aiohttp-3.9.5-cp311-cp311-macosx_11_0_arm64.whl.metadata (7.5 kB)\r\n",
      "Requirement already satisfied: huggingface-hub>=0.21.2 in /Users/lenardrommel/miniconda3/envs/Project_MSE/lib/python3.11/site-packages (from datasets) (0.23.4)\r\n",
      "Requirement already satisfied: packaging in /Users/lenardrommel/miniconda3/envs/Project_MSE/lib/python3.11/site-packages (from datasets) (24.1)\r\n",
      "Requirement already satisfied: pyyaml>=5.1 in /Users/lenardrommel/miniconda3/envs/Project_MSE/lib/python3.11/site-packages (from datasets) (6.0.1)\r\n",
      "Collecting aiosignal>=1.1.2 (from aiohttp->datasets)\r\n",
      "  Using cached aiosignal-1.3.1-py3-none-any.whl.metadata (4.0 kB)\r\n",
      "Requirement already satisfied: attrs>=17.3.0 in /Users/lenardrommel/miniconda3/envs/Project_MSE/lib/python3.11/site-packages (from aiohttp->datasets) (23.2.0)\r\n",
      "Collecting frozenlist>=1.1.1 (from aiohttp->datasets)\r\n",
      "  Using cached frozenlist-1.4.1-cp311-cp311-macosx_11_0_arm64.whl.metadata (12 kB)\r\n",
      "Collecting multidict<7.0,>=4.5 (from aiohttp->datasets)\r\n",
      "  Using cached multidict-6.0.5-cp311-cp311-macosx_11_0_arm64.whl.metadata (4.2 kB)\r\n",
      "Collecting yarl<2.0,>=1.0 (from aiohttp->datasets)\r\n",
      "  Using cached yarl-1.9.4-cp311-cp311-macosx_11_0_arm64.whl.metadata (31 kB)\r\n",
      "Requirement already satisfied: typing-extensions>=3.7.4.3 in /Users/lenardrommel/miniconda3/envs/Project_MSE/lib/python3.11/site-packages (from huggingface-hub>=0.21.2->datasets) (4.12.2)\r\n",
      "Requirement already satisfied: six>=1.5 in /Users/lenardrommel/miniconda3/envs/Project_MSE/lib/python3.11/site-packages (from python-dateutil>=2.8.2->pandas) (1.16.0)\r\n",
      "Requirement already satisfied: charset-normalizer<4,>=2 in /Users/lenardrommel/miniconda3/envs/Project_MSE/lib/python3.11/site-packages (from requests>=2.32.2->datasets) (3.3.2)\r\n",
      "Requirement already satisfied: idna<4,>=2.5 in /Users/lenardrommel/miniconda3/envs/Project_MSE/lib/python3.11/site-packages (from requests>=2.32.2->datasets) (3.7)\r\n",
      "Requirement already satisfied: urllib3<3,>=1.21.1 in /Users/lenardrommel/miniconda3/envs/Project_MSE/lib/python3.11/site-packages (from requests>=2.32.2->datasets) (2.2.2)\r\n",
      "Requirement already satisfied: certifi>=2017.4.17 in /Users/lenardrommel/miniconda3/envs/Project_MSE/lib/python3.11/site-packages (from requests>=2.32.2->datasets) (2024.6.2)\r\n",
      "Using cached datasets-2.20.0-py3-none-any.whl (547 kB)\r\n",
      "Using cached dill-0.3.8-py3-none-any.whl (116 kB)\r\n",
      "Using cached fsspec-2024.5.0-py3-none-any.whl (316 kB)\r\n",
      "Using cached aiohttp-3.9.5-cp311-cp311-macosx_11_0_arm64.whl (390 kB)\r\n",
      "Using cached pyarrow-16.1.0-cp311-cp311-macosx_11_0_arm64.whl (26.0 MB)\r\n",
      "Using cached multiprocess-0.70.16-py311-none-any.whl (143 kB)\r\n",
      "Using cached pyarrow_hotfix-0.6-py3-none-any.whl (7.9 kB)\r\n",
      "Using cached xxhash-3.4.1-cp311-cp311-macosx_11_0_arm64.whl (30 kB)\r\n",
      "Using cached aiosignal-1.3.1-py3-none-any.whl (7.6 kB)\r\n",
      "Using cached frozenlist-1.4.1-cp311-cp311-macosx_11_0_arm64.whl (53 kB)\r\n",
      "Using cached multidict-6.0.5-cp311-cp311-macosx_11_0_arm64.whl (30 kB)\r\n",
      "Using cached yarl-1.9.4-cp311-cp311-macosx_11_0_arm64.whl (81 kB)\r\n",
      "Installing collected packages: xxhash, pyarrow-hotfix, pyarrow, multidict, fsspec, frozenlist, dill, yarl, multiprocess, aiosignal, aiohttp, datasets\r\n",
      "  Attempting uninstall: fsspec\r\n",
      "    Found existing installation: fsspec 2024.6.0\r\n",
      "    Uninstalling fsspec-2024.6.0:\r\n",
      "      Successfully uninstalled fsspec-2024.6.0\r\n",
      "Successfully installed aiohttp-3.9.5 aiosignal-1.3.1 datasets-2.20.0 dill-0.3.8 frozenlist-1.4.1 fsspec-2024.5.0 multidict-6.0.5 multiprocess-0.70.16 pyarrow-16.1.0 pyarrow-hotfix-0.6 xxhash-3.4.1 yarl-1.9.4\r\n"
     ]
    }
   ],
   "execution_count": 13
  },
  {
   "metadata": {
    "ExecuteTime": {
     "end_time": "2024-06-27T14:58:31.561359Z",
     "start_time": "2024-06-27T14:57:20.427179Z"
    }
   },
   "cell_type": "code",
   "source": [
    "from datasets import load_dataset\n",
    "\n",
    "ds = load_dataset(\"microsoft/ms_marco\", \"v2.1\")"
   ],
   "outputs": [
    {
     "data": {
      "text/plain": [
       "Downloading readme:   0%|          | 0.00/9.48k [00:00<?, ?B/s]"
      ],
      "application/vnd.jupyter.widget-view+json": {
       "version_major": 2,
       "version_minor": 0,
       "model_id": "9017adc13cfe4b019c645de25299f748"
      }
     },
     "metadata": {},
     "output_type": "display_data"
    },
    {
     "data": {
      "text/plain": [
       "Downloading data:   0%|          | 0.00/210M [00:00<?, ?B/s]"
      ],
      "application/vnd.jupyter.widget-view+json": {
       "version_major": 2,
       "version_minor": 0,
       "model_id": "644ec89f5b5949a3a1b51037824f9b5a"
      }
     },
     "metadata": {},
     "output_type": "display_data"
    },
    {
     "data": {
      "text/plain": [
       "Downloading data:   0%|          | 0.00/240M [00:00<?, ?B/s]"
      ],
      "application/vnd.jupyter.widget-view+json": {
       "version_major": 2,
       "version_minor": 0,
       "model_id": "c17271e4070a40ce96c0b5d866e89182"
      }
     },
     "metadata": {},
     "output_type": "display_data"
    },
    {
     "data": {
      "text/plain": [
       "Downloading data:   0%|          | 0.00/240M [00:00<?, ?B/s]"
      ],
      "application/vnd.jupyter.widget-view+json": {
       "version_major": 2,
       "version_minor": 0,
       "model_id": "227a3468f07145e5b00d416ae6ce0def"
      }
     },
     "metadata": {},
     "output_type": "display_data"
    },
    {
     "data": {
      "text/plain": [
       "Downloading data:   0%|          | 0.00/241M [00:00<?, ?B/s]"
      ],
      "application/vnd.jupyter.widget-view+json": {
       "version_major": 2,
       "version_minor": 0,
       "model_id": "0f4cc02ca490454f89d5e383b28ec89b"
      }
     },
     "metadata": {},
     "output_type": "display_data"
    },
    {
     "data": {
      "text/plain": [
       "Downloading data:   0%|          | 0.00/242M [00:00<?, ?B/s]"
      ],
      "application/vnd.jupyter.widget-view+json": {
       "version_major": 2,
       "version_minor": 0,
       "model_id": "a96d65ef4e8649aaa69077398cdd9926"
      }
     },
     "metadata": {},
     "output_type": "display_data"
    },
    {
     "data": {
      "text/plain": [
       "Downloading data:   0%|          | 0.00/242M [00:00<?, ?B/s]"
      ],
      "application/vnd.jupyter.widget-view+json": {
       "version_major": 2,
       "version_minor": 0,
       "model_id": "07edbbaa5e9648cfaadc1e01757cdc4d"
      }
     },
     "metadata": {},
     "output_type": "display_data"
    },
    {
     "data": {
      "text/plain": [
       "Downloading data:   0%|          | 0.00/242M [00:00<?, ?B/s]"
      ],
      "application/vnd.jupyter.widget-view+json": {
       "version_major": 2,
       "version_minor": 0,
       "model_id": "86a95c55ae0c4dd3b1b36495ad1f3f54"
      }
     },
     "metadata": {},
     "output_type": "display_data"
    },
    {
     "data": {
      "text/plain": [
       "Downloading data:   0%|          | 0.00/244M [00:00<?, ?B/s]"
      ],
      "application/vnd.jupyter.widget-view+json": {
       "version_major": 2,
       "version_minor": 0,
       "model_id": "015f34ca7a574110bd56dd72f62444a5"
      }
     },
     "metadata": {},
     "output_type": "display_data"
    },
    {
     "data": {
      "text/plain": [
       "Downloading data:   0%|          | 0.00/204M [00:00<?, ?B/s]"
      ],
      "application/vnd.jupyter.widget-view+json": {
       "version_major": 2,
       "version_minor": 0,
       "model_id": "34374369500d4eb980e9b9f9a0ed51d6"
      }
     },
     "metadata": {},
     "output_type": "display_data"
    },
    {
     "data": {
      "text/plain": [
       "Generating validation split:   0%|          | 0/101093 [00:00<?, ? examples/s]"
      ],
      "application/vnd.jupyter.widget-view+json": {
       "version_major": 2,
       "version_minor": 0,
       "model_id": "0f8064d1ac2644ca8f1720b8dec0e277"
      }
     },
     "metadata": {},
     "output_type": "display_data"
    },
    {
     "data": {
      "text/plain": [
       "Generating train split:   0%|          | 0/808731 [00:00<?, ? examples/s]"
      ],
      "application/vnd.jupyter.widget-view+json": {
       "version_major": 2,
       "version_minor": 0,
       "model_id": "9bce6d7f906d4b2dbc348ff86faf6953"
      }
     },
     "metadata": {},
     "output_type": "display_data"
    },
    {
     "data": {
      "text/plain": [
       "Generating test split:   0%|          | 0/101092 [00:00<?, ? examples/s]"
      ],
      "application/vnd.jupyter.widget-view+json": {
       "version_major": 2,
       "version_minor": 0,
       "model_id": "64dea8e11a6f49a4afb58ab92874aa85"
      }
     },
     "metadata": {},
     "output_type": "display_data"
    }
   ],
   "execution_count": 14
  },
  {
   "metadata": {
    "ExecuteTime": {
     "end_time": "2024-06-27T15:00:38.356006Z",
     "start_time": "2024-06-27T15:00:38.346996Z"
    }
   },
   "cell_type": "code",
   "source": [
    "# show validation set\n",
    "for example in ds['train'].select(range(5)):\n",
    "    print(example)\n"
   ],
   "outputs": [
    {
     "name": "stdout",
     "output_type": "stream",
     "text": [
      "{'answers': ['The immediate impact of the success of the manhattan project was the only cloud hanging over the impressive achievement of the atomic researchers and engineers is what their success truly meant; hundreds of thousands of innocent lives obliterated.'], 'passages': {'is_selected': [1, 0, 0, 0, 0, 0, 0, 0, 0, 0], 'passage_text': ['The presence of communication amid scientific minds was equally important to the success of the Manhattan Project as scientific intellect was. The only cloud hanging over the impressive achievement of the atomic researchers and engineers is what their success truly meant; hundreds of thousands of innocent lives obliterated.', 'The Manhattan Project and its atomic bomb helped bring an end to World War II. Its legacy of peaceful uses of atomic energy continues to have an impact on history and science.', 'Essay on The Manhattan Project - The Manhattan Project The Manhattan Project was to see if making an atomic bomb possible. The success of this project would forever change the world forever making it known that something this powerful can be manmade.', 'The Manhattan Project was the name for a project conducted during World War II, to develop the first atomic bomb. It refers specifically to the period of the project from 194 … 2-1946 under the control of the U.S. Army Corps of Engineers, under the administration of General Leslie R. Groves.', 'versions of each volume as well as complementary websites. The first website–The Manhattan Project: An Interactive History–is available on the Office of History and Heritage Resources website, http://www.cfo. doe.gov/me70/history. The Office of History and Heritage Resources and the National Nuclear Security', 'The Manhattan Project. This once classified photograph features the first atomic bomb — a weapon that atomic scientists had nicknamed Gadget.. The nuclear age began on July 16, 1945, when it was detonated in the New Mexico desert.', 'Nor will it attempt to substitute for the extraordinarily rich literature on the atomic bombs and the end of World War II. This collection does not attempt to document the origins and development of the Manhattan Project.', 'Manhattan Project. The Manhattan Project was a research and development undertaking during World War II that produced the first nuclear weapons. It was led by the United States with the support of the United Kingdom and Canada. From 1942 to 1946, the project was under the direction of Major General Leslie Groves of the U.S. Army Corps of Engineers. Nuclear physicist Robert Oppenheimer was the director of the Los Alamos Laboratory that designed the actual bombs. The Army component of the project was designated the', 'In June 1942, the United States Army Corps of Engineersbegan the Manhattan Project- The secret name for the 2 atomic bombs.', \"One of the main reasons Hanford was selected as a site for the Manhattan Project's B Reactor was its proximity to the Columbia River, the largest river flowing into the Pacific Ocean from the North American coast.\"], 'url': ['http://www.pitt.edu/~sdb14/atombomb.html', 'http://www.osti.gov/accomplishments/manhattan_story.html', 'http://www.123helpme.com/impact-of-the-manhattan-project-preview.asp?id=177337', 'http://www.answers.com/Q/How_did_the_Manhattan_Project_impact_on_society', 'https://www.osti.gov/manhattan-project-history/publications/Manhattan_Project_2010.pdf', 'http://www.ushistory.org/us/51f.asp', 'http://nsarchive.gwu.edu/NSAEBB/NSAEBB162', 'https://en.wikipedia.org/wiki/Manhattan_Project', 'https://quizlet.com/41456230/a-bomb-flash-cards/', 'https://www.atomicheritage.org/history/environmental-consequences']}, 'query': ')what was the immediate impact of the success of the manhattan project?', 'query_id': 1185869, 'query_type': 'DESCRIPTION', 'wellFormedAnswers': []}\n",
      "{'answers': ['Restorative justice that fosters dialogue between victim and offender has shown the highest rates of victim satisfaction and offender accountability.'], 'passages': {'is_selected': [0, 0, 0, 0, 0, 0, 1, 0, 0, 0], 'passage_text': ['group discussions, community boards or panels with a third party, or victim and offender dialogues, and requires a skilled facilitator who also has sufficient understanding of sexual assault, domestic violence, and dating violence, as well as trauma and safety issues.', \"punishment designed to repair the damage done to the victim and community by an offender's criminal act. Ex: community service, Big Brother program indeterminate sentence\", 'Tutorial: Introduction to Restorative Justice. Restorative justice is a theory of justice that emphasizes repairing the harm caused by criminal behaviour. It is best accomplished through cooperative processes that include all stakeholders. This can lead to transformation of people, relationships and communities. Practices and programs reflecting restorative purposes will respond to crime by: 1  identifying and taking steps to repair harm, 2  involving all stakeholders, and. 3  transforming the traditional relationship between communities and their governments in responding to crime.', 'Organize volunteer community panels, boards, or committees that meet with the offender to discuss the incident and offender obligation to repair the harm to victims and community members. Facilitate the process of apologies to victims and communities. Invite local victim advocates to provide ongoing victim-awareness training for probation staff.', 'The purpose of this paper is to point out a number of unresolved issues in the criminal justice system, present the underlying principles of restorative justice, and then to review the growing amount of empirical data on victim-offender mediation.', 'Each of these types of communities—the geographic community of the victim, offender, or crime; the community of care; and civil society—may be injured by crime in different ways and degrees, but all will be affected in common ways as well: The sense of safety and confidence of their members is threatened, order within the community is threatened, and (depending on the kind of crime) common values of the community are challenged and perhaps eroded.', 'The approach is based on a theory of justice that considers crime and wrongdoing to be an offense against an individual or community, rather than the State. Restorative justice that fosters dialogue between victim and offender has shown the highest rates of victim satisfaction and offender accountability.', 'Inherent in many people’s understanding of the notion of ADR is the existence of a dispute between identifiable parties. Criminal justice, however, is not usually conceptualised as a dispute between victim and offender, but is instead seen as a matter concerning the relationship between the offender and the state. This raises a complex question as to whether a criminal offence can properly be described as a ‘dispute’.', 'Criminal justice, however, is not usually conceptualised as a dispute between victim and offender, but is instead seen as a matter concerning the relationship between the offender and the state. 3 This raises a complex question as to whether a criminal offence can properly be described as a ‘dispute’.', 'The circle includes a wide range of participants including not only the offender and the victim but also friends and families, community members, and justice system representatives. The primary distinction between conferencing and circles is that circles do not focus exclusively on the offense and do not limit their solutions to repairing the harm between the victim and the offender.'], 'url': ['https://www.justice.gov/ovw/file/926101/download', 'https://quizlet.com/1128245/criminal-justice-exam-1-flash-cards/', 'http://restorativejustice.org/restorative-justice/about-restorative-justice/tutorial-intro-to-restorative-justice/', 'https://www.ojjdp.gov/pubs/implementing/accountability.html', 'http://www.westerncriminology.org/documents/WCR/v01n1/Umbreit/Umbreit.html', 'https://www.sciencedirect.com/science/article/pii/B9781455731398000030', 'https://en.wikipedia.org/wiki/Restorative_justice', 'http://www.adrac.org.au/adr-mapping/criminal-justice-and-adr', 'https://www.mediate.com/articles/kirschnersbl20180126.cfm', 'https://www.sciencedirect.com/science/article/pii/B978145572599100014X']}, 'query': '_________ justice is designed to repair the harm to victim, the community and the offender caused by the offender criminal act. question 19 options:', 'query_id': 1185868, 'query_type': 'DESCRIPTION', 'wellFormedAnswers': []}\n",
      "{'answers': ['The reasons why Stalin wanted to control Eastern Europe are Russia has historically no secure border and they wanted to set up satellite countries.'], 'passages': {'is_selected': [0, 0, 0, 0, 0, 0, 1, 0, 0, 0], 'passage_text': ['Western betrayal. The concept of Western betrayal refers to the view that the United Kingdom and France failed to meet their legal, diplomatic, military and moral obligations with respect to the Czech and Polish nations during the prelude to and aftermath of the Second World War.', \"The Tuvan People's Republic, was proclaimed independent in 1921 and was a satellite state of Soviet Union until its annexation in 1944 by the Soviet Union. Another early Soviet satellite state in Asia was the short-lived Far East Republic in Siberia. Post-World War II\", 'Satellite state. The term satellite state designates a country that is formally independent in the world, but under heavy political, economic and military influence or control from another country. The term was coined by analogy to planetary objects orbiting a larger object, such as smaller moons revolving around larger planets, and is used mainly to refer to Central and Eastern European countries of the Warsaw Pact during the Cold War or to Mongolia or Tannu Tuva between 1924 and 1990, for example. As used for', 'According to Hakluyt, why should England pursue colonies in North America? Check all of the boxes that apply.', \"An interview with Anne Applebaum about her new book, The Crushing of Eastern Europe. Soviet-built tanks wheel into action in a smoke-filled Budapest street during Hungary's rebellion against communist satellite government in October of 1956.\", \"They therefore,if anything, tightened their grip, Hungary 1956,Czechoslovakia 1968 and the construction of the Berlin Wall all being examples.After Stalin,it wasn't so much the desire to extend Soviet power as paranoia about losing it that maintained Soviet desire to control Eastern Europe.\", 'There are 3 main reasons why Stalin wanted to control Eastern Europe. 1.) Russia has historically no secure border. 2.) They wanted to set up satellite countries. 3.)', 'Why did the United Nations send troops to Korea in 1950? They wanted to contain and push back the communist invaders from the North. Why was the Arab-Israeli conflict considered part of the Cold War?', 'On top of that, Russia had been the victim of attacks from the west multiple times. In 1914 and 1941 Germany attacked Russia through Poland. To Stalin, the past was a reliable indicator of what the future could hold. Stalin thought that having control over eastern europe could significantly undermine this threat. Despite this, it was agreed at the Yalta conference, with the consent of Stalin, that all the countries liberated from Nazi Germany would have the right to be democratic and politically independent.', \"Not just Eastern Europe, Stalin wanted to control the world by creating an empire based on Communism. That's how they clashed with US who intended to control the world by building an empire based on Capitalism. That's what the Cold War is about.\"], 'url': ['https://en.wikipedia.org/wiki/Western_betrayal', 'https://en.wikipedia.org/wiki/Satellite_state', 'https://en.wikipedia.org/wiki/Satellite_state', 'https://brainly.com/question/1017368', 'https://www.theatlantic.com/international/archive/2012/10/how-communism-took-over-eastern-europe-after-world-war-ii/263938/', 'https://au.answers.yahoo.com/question/index?qid=20090606182326AAJ2h45', 'https://brainly.com/question/2960720', 'https://quizlet.com/11608325/history-flashcards/', 'http://www.markedbyteachers.com/gcse/history/how-did-stalin-take-over-eastern-europe-between-1945-and-1949.html', 'https://answers.yahoo.com/question/index?qid=20090928204102AAGBpWx']}, 'query': 'why did stalin want control of eastern europe', 'query_id': 1185854, 'query_type': 'DESCRIPTION', 'wellFormedAnswers': []}\n",
      "{'answers': ['Nails rust in water because water allows the iron to react with any oxygen present, which forms iron oxide. Nails rust due to presence of some impurities in the water, particularly salts, which speeds up the transfer of electrons from iron to oxygen.'], 'passages': {'is_selected': [0, 0, 0, 0, 0, 1, 0, 0, 0, 0], 'passage_text': ['what to Do If I Stepped on Rusty Nail: Prevent Getting Tetanus. What to do if you step on a nail and are afraid to get Tetanus? Tetanus vaccines are available to help the body fight off the bacteria that causes this infection. Patients as young as two months are able to receive a tetanus shot.', 'Just asked! See more. 1  What is the minimum coefficient of friction ... Answer. 13 minutes ago. 2  How do you find the derivate of inverse sin ... Answer. 14 minutes ago. 3  You found the perfect pair of shorts for $24.99 ... Answer. 20 minutes ago. 4  What are the asymptote(s) and hole(s), if any, of ... Answer. 35 minutes ago.', 'In order to cause rust quickly, there must be some impurities in the water,... Nails rust in water because water allows the iron to react with any oxygen present, which forms iron oxide, known as rust. In order to cause rust quickly, there must be some impurities in the water,...', 'Rusty Nail and Tetanus It is commonly advised that people should avoid rusty nails because they are dangerous. One of the most common beliefs is that piercing the skin with a rusty nail can cause you to develop tetanus or lockjaw. Tetanus is referred to as lockjaw because the initial symptoms of the disease will cause the muscles around the mouth to become rigid.', \"If you take an iron nail and let it rust in air, you'll find that the weight of the rusted nail is larger than that of the nail before it rusted. This gives the impression that the amount of mass hasn't remained constant, but what has really happened is that the oxygen in the air (which you didn't weigh) combined with the iron to make it rust. As a result, the weight of the oxygen plus the weight of the iron is equal to the weight of the rust that's formed. OK.\", 'A: Nails rust in water because water allows the iron to react with any oxygen present, which forms iron oxide, known as rust. In order to cause rust quickly, there must be some impurities in the water, particularly salts, since these speed up the transfer of electrons from iron to oxygen.', 'It is possible to contract tetanus if you are cut by a rusty nail. Tetanus is caused by the clostridium tetani bacteria which are commonly found in dust, soil and animal feces. Because these items are commonly found around areas like gardens or work sites where rusty nails are present, the general belief that rusty nails cause tetanus was born. It is important to note that it is not so much the rust on the nail that causes people to contract tetanus, but the fact that nails can cause deep wounds that make it easier for the tetanus infection to spread.', 'Just asked! See more. 1  What is the minimum coefficient of friction 2  ... How do you find the derivate of inverse sin 3  ... You found the perfect pair of shorts for $24.99 4  ... What are the asymptote(s) and hole(s), if any, of ...', 'Just asked! See more. 1  What is the minimum coefficient of friction ... Answer. 2  How do you find the derivate of inverse sin ... Answer. 3  You found the perfect pair of shorts for $24.99 ... Answer. 4  What are the asymptote(s) and hole(s), if any, of ... Answer.', 'Quick Answer. Nails rust in water because water allows the iron to react with any oxygen present, which forms iron oxide, known as rust. In order to cause rust quickly, there must be some impurities in the water, particularly salts, since these speed up the transfer of electrons from iron to oxygen. Continue Reading'], 'url': ['http://www.healthcare-online.org/Stepped-On-Rusty-Nail.html', 'https://socratic.org/questions/how-to-explain-the-law-of-conservation-of-mass-using-a-nail-rusting-in-air', 'https://www.reference.com/beauty-fashion/nails-rust-water-a757692adb7c0eb4', 'http://www.healthcare-online.org/Stepped-On-Rusty-Nail.html', 'https://socratic.org/questions/how-to-explain-the-law-of-conservation-of-mass-using-a-nail-rusting-in-air', 'https://www.reference.com/beauty-fashion/nails-rust-water-a757692adb7c0eb4', 'http://www.healthcare-online.org/Stepped-On-Rusty-Nail.html', 'https://socratic.org/questions/how-to-explain-the-law-of-conservation-of-mass-using-a-nail-rusting-in-air', 'https://socratic.org/questions/how-to-explain-the-law-of-conservation-of-mass-using-a-nail-rusting-in-air', 'https://www.reference.com/beauty-fashion/nails-rust-water-a757692adb7c0eb4']}, 'query': 'why do nails get rusty', 'query_id': 1185755, 'query_type': 'DESCRIPTION', 'wellFormedAnswers': []}\n",
      "{'answers': ['Depona Ab is a library in Vilhelmina, Sweden.'], 'passages': {'is_selected': [0, 0, 0, 0, 0, 0, 1, 0, 0, 0], 'passage_text': ['A preview of what LinkedIn members have to say about Göran: Göran är en mycket duktig och noggrann säljare och ledare. Under görans ledning och stöd byggde vi en effektiv och stark sälj/marknads organisation för outsourcing av dokumenthanteringstjänster i stor skala. Jag jobbar gärna med Göran närsomhelst och rekommenderar gärna Göran som er nästa sälj/marknadschef.', 'Depona Oy YTJ: Y-tunnus: 21527338 YTJ: Toimiala: Kirjastojen ja arkistojen toiminta (TOL: 91010) YTJ: Toimialakuvaus: (Päivitetty: 01.04.2008)', 'In the autumn of 2000, Svenska Standardbolag and Magnus Litens founded Sweden’s today leading actor in archive services, Depona AB. Depona operates in ten locations in Sweden and has thousands of customers who use their web-based archiving solution Visual archive. The history of Standardbolag. Lawyer Gustaf Bertil Ihrman, the founder of Svenska Standardbolag AB, had his office in the ”Ihrman villa” in Falun and conducted general legal services during the years of 1921–1953.', \"View Martin Townsend’s profile on LinkedIn, the world's largest professional community. Martin has 6 jobs listed on their profile. See the complete profile on LinkedIn and discover Martin’s connections and jobs at similar companies.\", 'Uzņēmums Depona sāka darbu ar ideju, kas paredzēja atjaunināt un uzlabot arhivēšanas pakalpojumu tirgu, nodrošinot novatorisku lietotāju saskarni, labāku Valodas Dansk', 'Company Profile. Depona AB provides physical archive services. The Company offers business, organizations, and governmental agencies archival materials using the latest technology for recording, retrieval, and archive databases. Depona delivers services throughout Sweden.', 'Depona Ab is a library in Vilhelmina, Sweden. The company is located at Slggatan 1. This private company was founded in 1999 (about 16 years ago). A typical library has between 4 and 80 employees, meaning that Depona Ab, with a reported 5 employees, employs a typical amount of people for the industry within Sweden.', 'Svenska Standardbolag AB is the market leader in corporate cases in Sweden since 1954 and has assisted Swedish enterprises in more than 300 000 corporate cases. Our shelf company AB Grundstenen is our main product and more than 150 000 Swedish companies have been started with it.', '1 5', 'Connecting decision makers to a dynamic network of information, people and ideas, Bloomberg quickly and accurately delivers business and financial information, news and insight around the world.'], 'url': ['https://www.linkedin.com/in/goranaxelsson', 'https://www.kauppalehti.fi/yritykset/yritys/depona+oy/21527338', 'http://www.standardbolag.com/about-us/', 'https://www.linkedin.com/in/martin-townsend-7b4b8026', 'http://www.depona.lv/kapec-depona/', 'https://www.bloomberg.com/profiles/companies/5175594Z:SS-depona-ab', 'http://listings.findthecompany.com/l/254874440/Depona-Ab', 'http://www.standardbolag.com/about-us/', 'https://www.facebook.com/pages/Depona/125125544239239', 'https://www.bloomberg.com/profiles/companies/5175594Z:SS-depona-ab']}, 'query': 'depona ab', 'query_id': 1184773, 'query_type': 'DESCRIPTION', 'wellFormedAnswers': []}\n"
     ]
    }
   ],
   "execution_count": 19
  },
  {
   "metadata": {},
   "cell_type": "code",
   "outputs": [],
   "execution_count": null,
   "source": ""
  }
 ],
 "metadata": {
  "kernelspec": {
   "display_name": "Python 3",
   "language": "python",
   "name": "python3"
  },
  "language_info": {
   "codemirror_mode": {
    "name": "ipython",
    "version": 3
   },
   "file_extension": ".py",
   "mimetype": "text/x-python",
   "name": "python",
   "nbconvert_exporter": "python",
   "pygments_lexer": "ipython3",
   "version": "3.11.3"
  },
  "orig_nbformat": 4
 },
 "nbformat": 4,
 "nbformat_minor": 2
}
